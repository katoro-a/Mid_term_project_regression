{
 "cells": [
  {
   "cell_type": "code",
   "execution_count": 1,
   "id": "8933d7e9",
   "metadata": {},
   "outputs": [],
   "source": [
    "import pandas as pd\n",
    "import numpy as np \n",
    "import datetime\n",
    "import warnings\n",
    "warnings.filterwarnings('ignore')\n",
    "warnings.filterwarnings(\"ignore\", message=\"numpy.ufunc size changed\")\n",
    "import matplotlib.pyplot as plt\n",
    "import seaborn as sns\n",
    "%matplotlib inline\n",
    "pd.set_option('display.max_columns', None)\n",
    "\n"
   ]
  },
  {
   "cell_type": "markdown",
   "id": "ce0f0dce",
   "metadata": {},
   "source": [
    "## Note \n",
    "- check for duplicates in the id numbers \n",
    "    - leave them alone for now even if there are 177 duplicates flucuatio in price might be due to other factors "
   ]
  },
  {
   "cell_type": "markdown",
   "id": "764160f4",
   "metadata": {},
   "source": [
    "https://github.com/ironhack-edu/data_mid_bootcamp_project_regression"
   ]
  },
  {
   "cell_type": "markdown",
   "id": "d6fb1530",
   "metadata": {},
   "source": [
    "# how to drop rows \n",
    "- ~ is for the removal of the row \n",
    "    - cleandata = cleandata[~cleandata['bedrooms'].isin([33])] \n",
    "    - cleandata.shape \n",
    "\n",
    "\n",
    "- cleandaata = cleandata.drop_duplicates(subset=['bedrooms','bathrooms'])"
   ]
  },
  {
   "cell_type": "code",
   "execution_count": 61,
   "id": "5e4150ac",
   "metadata": {},
   "outputs": [
    {
     "data": {
      "text/html": [
       "<div>\n",
       "<style scoped>\n",
       "    .dataframe tbody tr th:only-of-type {\n",
       "        vertical-align: middle;\n",
       "    }\n",
       "\n",
       "    .dataframe tbody tr th {\n",
       "        vertical-align: top;\n",
       "    }\n",
       "\n",
       "    .dataframe thead th {\n",
       "        text-align: right;\n",
       "    }\n",
       "</style>\n",
       "<table border=\"1\" class=\"dataframe\">\n",
       "  <thead>\n",
       "    <tr style=\"text-align: right;\">\n",
       "      <th></th>\n",
       "      <th>date</th>\n",
       "      <th>bedrooms</th>\n",
       "      <th>bathrooms</th>\n",
       "      <th>sqft_living</th>\n",
       "      <th>sqft_lot</th>\n",
       "      <th>floors</th>\n",
       "      <th>waterfront</th>\n",
       "      <th>view</th>\n",
       "      <th>condition</th>\n",
       "      <th>grade</th>\n",
       "      <th>sqft_above</th>\n",
       "      <th>sqft_basement</th>\n",
       "      <th>yr_built</th>\n",
       "      <th>yr_renovated</th>\n",
       "      <th>zipcode</th>\n",
       "      <th>lat</th>\n",
       "      <th>long</th>\n",
       "      <th>sqft_living15</th>\n",
       "      <th>sqft_lot15</th>\n",
       "      <th>price</th>\n",
       "    </tr>\n",
       "  </thead>\n",
       "  <tbody>\n",
       "    <tr>\n",
       "      <th>15856</th>\n",
       "      <td>2014-06-25</td>\n",
       "      <td>33</td>\n",
       "      <td>1.75</td>\n",
       "      <td>1620</td>\n",
       "      <td>6000</td>\n",
       "      <td>1.0</td>\n",
       "      <td>0</td>\n",
       "      <td>0</td>\n",
       "      <td>5</td>\n",
       "      <td>7</td>\n",
       "      <td>1040</td>\n",
       "      <td>580</td>\n",
       "      <td>1947</td>\n",
       "      <td>0</td>\n",
       "      <td>98103</td>\n",
       "      <td>47.6878</td>\n",
       "      <td>-122.331</td>\n",
       "      <td>1330</td>\n",
       "      <td>4700</td>\n",
       "      <td>640000</td>\n",
       "    </tr>\n",
       "  </tbody>\n",
       "</table>\n",
       "</div>"
      ],
      "text/plain": [
       "            date  bedrooms  bathrooms  sqft_living  sqft_lot  floors  \\\n",
       "15856 2014-06-25        33       1.75         1620      6000     1.0   \n",
       "\n",
       "       waterfront  view  condition  grade  sqft_above  sqft_basement  \\\n",
       "15856           0     0          5      7        1040            580   \n",
       "\n",
       "       yr_built  yr_renovated  zipcode      lat     long  sqft_living15  \\\n",
       "15856      1947             0    98103  47.6878 -122.331           1330   \n",
       "\n",
       "       sqft_lot15   price  \n",
       "15856        4700  640000  "
      ]
     },
     "execution_count": 61,
     "metadata": {},
     "output_type": "execute_result"
    }
   ],
   "source": [
    "# check out the 33 bedrooms , major outlier \n",
    "home[home['bedrooms']==33] \n",
    "# drop this row using the above code\n",
    "\n",
    "\n",
    "\n"
   ]
  },
  {
   "cell_type": "markdown",
   "id": "2dad1df0",
   "metadata": {},
   "source": [
    "saturday after thnks giving weekend \n",
    "DECEMBER 4 deadline \n",
    "present on the 7th "
   ]
  },
  {
   "cell_type": "markdown",
   "id": "b97e2e29",
   "metadata": {},
   "source": [
    "- Id: Unique identification number for the property.\n",
    "- date: date the house was sold.\n",
    "- price: price of the house.\n",
    "- waterfront: house which has a view to a waterfront.\n",
    "- condition: How good the condition is (overall). 1 indicates worn out property and 5 excellent.\n",
    "- grade: Overall grade given to the housing unit, based on King County grading system. 1 poor ,13 excellent.\n",
    "- Sqft_above: square footage of house apart from basement.\n",
    "- Sqft_living15: Living room area in 2015(implies - some renovations). This might or might not have affected the lotsize area.\n",
    "- Sqft_lot15: lotSize area in 2015(implies - some renovations)."
   ]
  },
  {
   "cell_type": "markdown",
   "id": "57614ffb",
   "metadata": {},
   "source": [
    "HOME:looking at property  \n",
    "dont have to do the sql questions during the presention \n",
    "explain your approach \n",
    "explain what you did to improve the accuracy of the model  \n"
   ]
  },
  {
   "cell_type": "code",
   "execution_count": 2,
   "id": "94963903",
   "metadata": {},
   "outputs": [
    {
     "data": {
      "text/html": [
       "<div>\n",
       "<style scoped>\n",
       "    .dataframe tbody tr th:only-of-type {\n",
       "        vertical-align: middle;\n",
       "    }\n",
       "\n",
       "    .dataframe tbody tr th {\n",
       "        vertical-align: top;\n",
       "    }\n",
       "\n",
       "    .dataframe thead th {\n",
       "        text-align: right;\n",
       "    }\n",
       "</style>\n",
       "<table border=\"1\" class=\"dataframe\">\n",
       "  <thead>\n",
       "    <tr style=\"text-align: right;\">\n",
       "      <th></th>\n",
       "      <th>id</th>\n",
       "      <th>date</th>\n",
       "      <th>bedrooms</th>\n",
       "      <th>bathrooms</th>\n",
       "      <th>sqft_living</th>\n",
       "      <th>sqft_lot</th>\n",
       "      <th>floors</th>\n",
       "      <th>waterfront</th>\n",
       "      <th>view</th>\n",
       "      <th>condition</th>\n",
       "      <th>grade</th>\n",
       "      <th>sqft_above</th>\n",
       "      <th>sqft_basement</th>\n",
       "      <th>yr_built</th>\n",
       "      <th>yr_renovated</th>\n",
       "      <th>zipcode</th>\n",
       "      <th>lat</th>\n",
       "      <th>long</th>\n",
       "      <th>sqft_living15</th>\n",
       "      <th>sqft_lot15</th>\n",
       "      <th>price</th>\n",
       "    </tr>\n",
       "  </thead>\n",
       "  <tbody>\n",
       "    <tr>\n",
       "      <th>0</th>\n",
       "      <td>7129300520</td>\n",
       "      <td>2014-10-13</td>\n",
       "      <td>3</td>\n",
       "      <td>1.00</td>\n",
       "      <td>1180</td>\n",
       "      <td>5650</td>\n",
       "      <td>1.0</td>\n",
       "      <td>0</td>\n",
       "      <td>0</td>\n",
       "      <td>3</td>\n",
       "      <td>7</td>\n",
       "      <td>1180</td>\n",
       "      <td>0</td>\n",
       "      <td>1955</td>\n",
       "      <td>0</td>\n",
       "      <td>98178</td>\n",
       "      <td>47.5112</td>\n",
       "      <td>-122.257</td>\n",
       "      <td>1340</td>\n",
       "      <td>5650</td>\n",
       "      <td>221900</td>\n",
       "    </tr>\n",
       "    <tr>\n",
       "      <th>1</th>\n",
       "      <td>6414100192</td>\n",
       "      <td>2014-12-09</td>\n",
       "      <td>3</td>\n",
       "      <td>2.25</td>\n",
       "      <td>2570</td>\n",
       "      <td>7242</td>\n",
       "      <td>2.0</td>\n",
       "      <td>0</td>\n",
       "      <td>0</td>\n",
       "      <td>3</td>\n",
       "      <td>7</td>\n",
       "      <td>2170</td>\n",
       "      <td>400</td>\n",
       "      <td>1951</td>\n",
       "      <td>1991</td>\n",
       "      <td>98125</td>\n",
       "      <td>47.7210</td>\n",
       "      <td>-122.319</td>\n",
       "      <td>1690</td>\n",
       "      <td>7639</td>\n",
       "      <td>538000</td>\n",
       "    </tr>\n",
       "    <tr>\n",
       "      <th>2</th>\n",
       "      <td>5631500400</td>\n",
       "      <td>2015-02-25</td>\n",
       "      <td>2</td>\n",
       "      <td>1.00</td>\n",
       "      <td>770</td>\n",
       "      <td>10000</td>\n",
       "      <td>1.0</td>\n",
       "      <td>0</td>\n",
       "      <td>0</td>\n",
       "      <td>3</td>\n",
       "      <td>6</td>\n",
       "      <td>770</td>\n",
       "      <td>0</td>\n",
       "      <td>1933</td>\n",
       "      <td>0</td>\n",
       "      <td>98028</td>\n",
       "      <td>47.7379</td>\n",
       "      <td>-122.233</td>\n",
       "      <td>2720</td>\n",
       "      <td>8062</td>\n",
       "      <td>180000</td>\n",
       "    </tr>\n",
       "    <tr>\n",
       "      <th>3</th>\n",
       "      <td>2487200875</td>\n",
       "      <td>2014-12-09</td>\n",
       "      <td>4</td>\n",
       "      <td>3.00</td>\n",
       "      <td>1960</td>\n",
       "      <td>5000</td>\n",
       "      <td>1.0</td>\n",
       "      <td>0</td>\n",
       "      <td>0</td>\n",
       "      <td>5</td>\n",
       "      <td>7</td>\n",
       "      <td>1050</td>\n",
       "      <td>910</td>\n",
       "      <td>1965</td>\n",
       "      <td>0</td>\n",
       "      <td>98136</td>\n",
       "      <td>47.5208</td>\n",
       "      <td>-122.393</td>\n",
       "      <td>1360</td>\n",
       "      <td>5000</td>\n",
       "      <td>604000</td>\n",
       "    </tr>\n",
       "    <tr>\n",
       "      <th>4</th>\n",
       "      <td>1954400510</td>\n",
       "      <td>2015-02-18</td>\n",
       "      <td>3</td>\n",
       "      <td>2.00</td>\n",
       "      <td>1680</td>\n",
       "      <td>8080</td>\n",
       "      <td>1.0</td>\n",
       "      <td>0</td>\n",
       "      <td>0</td>\n",
       "      <td>3</td>\n",
       "      <td>8</td>\n",
       "      <td>1680</td>\n",
       "      <td>0</td>\n",
       "      <td>1987</td>\n",
       "      <td>0</td>\n",
       "      <td>98074</td>\n",
       "      <td>47.6168</td>\n",
       "      <td>-122.045</td>\n",
       "      <td>1800</td>\n",
       "      <td>7503</td>\n",
       "      <td>510000</td>\n",
       "    </tr>\n",
       "  </tbody>\n",
       "</table>\n",
       "</div>"
      ],
      "text/plain": [
       "           id       date  bedrooms  bathrooms  sqft_living  sqft_lot  floors  \\\n",
       "0  7129300520 2014-10-13         3       1.00         1180      5650     1.0   \n",
       "1  6414100192 2014-12-09         3       2.25         2570      7242     2.0   \n",
       "2  5631500400 2015-02-25         2       1.00          770     10000     1.0   \n",
       "3  2487200875 2014-12-09         4       3.00         1960      5000     1.0   \n",
       "4  1954400510 2015-02-18         3       2.00         1680      8080     1.0   \n",
       "\n",
       "   waterfront  view  condition  grade  sqft_above  sqft_basement  yr_built  \\\n",
       "0           0     0          3      7        1180              0      1955   \n",
       "1           0     0          3      7        2170            400      1951   \n",
       "2           0     0          3      6         770              0      1933   \n",
       "3           0     0          5      7        1050            910      1965   \n",
       "4           0     0          3      8        1680              0      1987   \n",
       "\n",
       "   yr_renovated  zipcode      lat     long  sqft_living15  sqft_lot15   price  \n",
       "0             0    98178  47.5112 -122.257           1340        5650  221900  \n",
       "1          1991    98125  47.7210 -122.319           1690        7639  538000  \n",
       "2             0    98028  47.7379 -122.233           2720        8062  180000  \n",
       "3             0    98136  47.5208 -122.393           1360        5000  604000  \n",
       "4             0    98074  47.6168 -122.045           1800        7503  510000  "
      ]
     },
     "execution_count": 2,
     "metadata": {},
     "output_type": "execute_result"
    }
   ],
   "source": [
    "home = pd.read_excel('regression_data.xls')\n",
    "home.head()"
   ]
  },
  {
   "cell_type": "code",
   "execution_count": 3,
   "id": "8cdbc101",
   "metadata": {},
   "outputs": [
    {
     "data": {
      "text/plain": [
       "(21597, 21)"
      ]
     },
     "execution_count": 3,
     "metadata": {},
     "output_type": "execute_result"
    }
   ],
   "source": [
    "home.shape"
   ]
  },
  {
   "cell_type": "markdown",
   "id": "9f9b1187",
   "metadata": {},
   "source": [
    "# check for duplicated id numbers \n",
    "- drop the ones you dont think are neccessary \n",
    "- check to see if its because of renovations that their is a duplicated id, also check lat and long  \n",
    "- https://towardsdatascience.com/finding-and-removing-duplicate-rows-in-pandas-dataframe-c6117668631f"
   ]
  },
  {
   "cell_type": "code",
   "execution_count": 4,
   "id": "78715ca0",
   "metadata": {},
   "outputs": [
    {
     "data": {
      "text/plain": [
       "177"
      ]
     },
     "execution_count": 4,
     "metadata": {},
     "output_type": "execute_result"
    }
   ],
   "source": [
    "home['id'].duplicated().sum()"
   ]
  },
  {
   "cell_type": "code",
   "execution_count": 5,
   "id": "056a3865",
   "metadata": {},
   "outputs": [
    {
     "data": {
      "text/html": [
       "<div>\n",
       "<style scoped>\n",
       "    .dataframe tbody tr th:only-of-type {\n",
       "        vertical-align: middle;\n",
       "    }\n",
       "\n",
       "    .dataframe tbody tr th {\n",
       "        vertical-align: top;\n",
       "    }\n",
       "\n",
       "    .dataframe thead th {\n",
       "        text-align: right;\n",
       "    }\n",
       "</style>\n",
       "<table border=\"1\" class=\"dataframe\">\n",
       "  <thead>\n",
       "    <tr style=\"text-align: right;\">\n",
       "      <th></th>\n",
       "      <th>id</th>\n",
       "      <th>date</th>\n",
       "      <th>bedrooms</th>\n",
       "      <th>bathrooms</th>\n",
       "      <th>sqft_living</th>\n",
       "      <th>sqft_lot</th>\n",
       "      <th>floors</th>\n",
       "      <th>waterfront</th>\n",
       "      <th>view</th>\n",
       "      <th>condition</th>\n",
       "      <th>grade</th>\n",
       "      <th>sqft_above</th>\n",
       "      <th>sqft_basement</th>\n",
       "      <th>yr_built</th>\n",
       "      <th>yr_renovated</th>\n",
       "      <th>zipcode</th>\n",
       "      <th>lat</th>\n",
       "      <th>long</th>\n",
       "      <th>sqft_living15</th>\n",
       "      <th>sqft_lot15</th>\n",
       "      <th>price</th>\n",
       "    </tr>\n",
       "  </thead>\n",
       "  <tbody>\n",
       "    <tr>\n",
       "      <th>94</th>\n",
       "      <td>6021501535</td>\n",
       "      <td>2014-12-23</td>\n",
       "      <td>3</td>\n",
       "      <td>1.50</td>\n",
       "      <td>1580</td>\n",
       "      <td>5000</td>\n",
       "      <td>1.0</td>\n",
       "      <td>0</td>\n",
       "      <td>0</td>\n",
       "      <td>3</td>\n",
       "      <td>8</td>\n",
       "      <td>1290</td>\n",
       "      <td>290</td>\n",
       "      <td>1939</td>\n",
       "      <td>0</td>\n",
       "      <td>98117</td>\n",
       "      <td>47.6870</td>\n",
       "      <td>-122.386</td>\n",
       "      <td>1570</td>\n",
       "      <td>4500</td>\n",
       "      <td>700000</td>\n",
       "    </tr>\n",
       "    <tr>\n",
       "      <th>314</th>\n",
       "      <td>4139480200</td>\n",
       "      <td>2014-12-09</td>\n",
       "      <td>4</td>\n",
       "      <td>3.25</td>\n",
       "      <td>4290</td>\n",
       "      <td>12103</td>\n",
       "      <td>1.0</td>\n",
       "      <td>0</td>\n",
       "      <td>3</td>\n",
       "      <td>3</td>\n",
       "      <td>11</td>\n",
       "      <td>2690</td>\n",
       "      <td>1600</td>\n",
       "      <td>1997</td>\n",
       "      <td>0</td>\n",
       "      <td>98006</td>\n",
       "      <td>47.5503</td>\n",
       "      <td>-122.102</td>\n",
       "      <td>3860</td>\n",
       "      <td>11244</td>\n",
       "      <td>1400000</td>\n",
       "    </tr>\n",
       "    <tr>\n",
       "      <th>325</th>\n",
       "      <td>7520000520</td>\n",
       "      <td>2015-03-11</td>\n",
       "      <td>2</td>\n",
       "      <td>1.00</td>\n",
       "      <td>1240</td>\n",
       "      <td>12092</td>\n",
       "      <td>1.0</td>\n",
       "      <td>0</td>\n",
       "      <td>0</td>\n",
       "      <td>3</td>\n",
       "      <td>6</td>\n",
       "      <td>960</td>\n",
       "      <td>280</td>\n",
       "      <td>1922</td>\n",
       "      <td>1984</td>\n",
       "      <td>98146</td>\n",
       "      <td>47.4957</td>\n",
       "      <td>-122.352</td>\n",
       "      <td>1820</td>\n",
       "      <td>7460</td>\n",
       "      <td>240500</td>\n",
       "    </tr>\n",
       "    <tr>\n",
       "      <th>346</th>\n",
       "      <td>3969300030</td>\n",
       "      <td>2014-12-29</td>\n",
       "      <td>4</td>\n",
       "      <td>1.00</td>\n",
       "      <td>1000</td>\n",
       "      <td>7134</td>\n",
       "      <td>1.0</td>\n",
       "      <td>0</td>\n",
       "      <td>0</td>\n",
       "      <td>3</td>\n",
       "      <td>6</td>\n",
       "      <td>1000</td>\n",
       "      <td>0</td>\n",
       "      <td>1943</td>\n",
       "      <td>0</td>\n",
       "      <td>98178</td>\n",
       "      <td>47.4897</td>\n",
       "      <td>-122.240</td>\n",
       "      <td>1020</td>\n",
       "      <td>7138</td>\n",
       "      <td>239900</td>\n",
       "    </tr>\n",
       "    <tr>\n",
       "      <th>372</th>\n",
       "      <td>2231500030</td>\n",
       "      <td>2015-03-24</td>\n",
       "      <td>4</td>\n",
       "      <td>2.25</td>\n",
       "      <td>2180</td>\n",
       "      <td>10754</td>\n",
       "      <td>1.0</td>\n",
       "      <td>0</td>\n",
       "      <td>0</td>\n",
       "      <td>5</td>\n",
       "      <td>7</td>\n",
       "      <td>1100</td>\n",
       "      <td>1080</td>\n",
       "      <td>1954</td>\n",
       "      <td>0</td>\n",
       "      <td>98133</td>\n",
       "      <td>47.7711</td>\n",
       "      <td>-122.341</td>\n",
       "      <td>1810</td>\n",
       "      <td>6929</td>\n",
       "      <td>530000</td>\n",
       "    </tr>\n",
       "    <tr>\n",
       "      <th>...</th>\n",
       "      <td>...</td>\n",
       "      <td>...</td>\n",
       "      <td>...</td>\n",
       "      <td>...</td>\n",
       "      <td>...</td>\n",
       "      <td>...</td>\n",
       "      <td>...</td>\n",
       "      <td>...</td>\n",
       "      <td>...</td>\n",
       "      <td>...</td>\n",
       "      <td>...</td>\n",
       "      <td>...</td>\n",
       "      <td>...</td>\n",
       "      <td>...</td>\n",
       "      <td>...</td>\n",
       "      <td>...</td>\n",
       "      <td>...</td>\n",
       "      <td>...</td>\n",
       "      <td>...</td>\n",
       "      <td>...</td>\n",
       "      <td>...</td>\n",
       "    </tr>\n",
       "    <tr>\n",
       "      <th>20165</th>\n",
       "      <td>7853400250</td>\n",
       "      <td>2015-02-19</td>\n",
       "      <td>4</td>\n",
       "      <td>3.50</td>\n",
       "      <td>2910</td>\n",
       "      <td>5260</td>\n",
       "      <td>2.0</td>\n",
       "      <td>0</td>\n",
       "      <td>0</td>\n",
       "      <td>3</td>\n",
       "      <td>9</td>\n",
       "      <td>2910</td>\n",
       "      <td>0</td>\n",
       "      <td>2012</td>\n",
       "      <td>0</td>\n",
       "      <td>98065</td>\n",
       "      <td>47.5168</td>\n",
       "      <td>-121.883</td>\n",
       "      <td>2910</td>\n",
       "      <td>5260</td>\n",
       "      <td>645000</td>\n",
       "    </tr>\n",
       "    <tr>\n",
       "      <th>20597</th>\n",
       "      <td>2724049222</td>\n",
       "      <td>2014-12-01</td>\n",
       "      <td>2</td>\n",
       "      <td>2.50</td>\n",
       "      <td>1000</td>\n",
       "      <td>1092</td>\n",
       "      <td>2.0</td>\n",
       "      <td>0</td>\n",
       "      <td>0</td>\n",
       "      <td>3</td>\n",
       "      <td>7</td>\n",
       "      <td>990</td>\n",
       "      <td>10</td>\n",
       "      <td>2004</td>\n",
       "      <td>0</td>\n",
       "      <td>98118</td>\n",
       "      <td>47.5419</td>\n",
       "      <td>-122.271</td>\n",
       "      <td>1330</td>\n",
       "      <td>1466</td>\n",
       "      <td>220000</td>\n",
       "    </tr>\n",
       "    <tr>\n",
       "      <th>20654</th>\n",
       "      <td>8564860270</td>\n",
       "      <td>2015-03-30</td>\n",
       "      <td>4</td>\n",
       "      <td>2.50</td>\n",
       "      <td>2680</td>\n",
       "      <td>5539</td>\n",
       "      <td>2.0</td>\n",
       "      <td>0</td>\n",
       "      <td>0</td>\n",
       "      <td>3</td>\n",
       "      <td>8</td>\n",
       "      <td>2680</td>\n",
       "      <td>0</td>\n",
       "      <td>2013</td>\n",
       "      <td>0</td>\n",
       "      <td>98045</td>\n",
       "      <td>47.4759</td>\n",
       "      <td>-121.734</td>\n",
       "      <td>2680</td>\n",
       "      <td>5992</td>\n",
       "      <td>502000</td>\n",
       "    </tr>\n",
       "    <tr>\n",
       "      <th>20764</th>\n",
       "      <td>6300000226</td>\n",
       "      <td>2015-05-04</td>\n",
       "      <td>4</td>\n",
       "      <td>1.00</td>\n",
       "      <td>1200</td>\n",
       "      <td>2171</td>\n",
       "      <td>1.5</td>\n",
       "      <td>0</td>\n",
       "      <td>0</td>\n",
       "      <td>3</td>\n",
       "      <td>7</td>\n",
       "      <td>1200</td>\n",
       "      <td>0</td>\n",
       "      <td>1933</td>\n",
       "      <td>0</td>\n",
       "      <td>98133</td>\n",
       "      <td>47.7076</td>\n",
       "      <td>-122.342</td>\n",
       "      <td>1130</td>\n",
       "      <td>1598</td>\n",
       "      <td>380000</td>\n",
       "    </tr>\n",
       "    <tr>\n",
       "      <th>21565</th>\n",
       "      <td>7853420110</td>\n",
       "      <td>2015-05-04</td>\n",
       "      <td>3</td>\n",
       "      <td>3.00</td>\n",
       "      <td>2780</td>\n",
       "      <td>6000</td>\n",
       "      <td>2.0</td>\n",
       "      <td>0</td>\n",
       "      <td>0</td>\n",
       "      <td>3</td>\n",
       "      <td>9</td>\n",
       "      <td>2780</td>\n",
       "      <td>0</td>\n",
       "      <td>2013</td>\n",
       "      <td>0</td>\n",
       "      <td>98065</td>\n",
       "      <td>47.5184</td>\n",
       "      <td>-121.886</td>\n",
       "      <td>2850</td>\n",
       "      <td>6000</td>\n",
       "      <td>625000</td>\n",
       "    </tr>\n",
       "  </tbody>\n",
       "</table>\n",
       "<p>177 rows × 21 columns</p>\n",
       "</div>"
      ],
      "text/plain": [
       "               id       date  bedrooms  bathrooms  sqft_living  sqft_lot  \\\n",
       "94     6021501535 2014-12-23         3       1.50         1580      5000   \n",
       "314    4139480200 2014-12-09         4       3.25         4290     12103   \n",
       "325    7520000520 2015-03-11         2       1.00         1240     12092   \n",
       "346    3969300030 2014-12-29         4       1.00         1000      7134   \n",
       "372    2231500030 2015-03-24         4       2.25         2180     10754   \n",
       "...           ...        ...       ...        ...          ...       ...   \n",
       "20165  7853400250 2015-02-19         4       3.50         2910      5260   \n",
       "20597  2724049222 2014-12-01         2       2.50         1000      1092   \n",
       "20654  8564860270 2015-03-30         4       2.50         2680      5539   \n",
       "20764  6300000226 2015-05-04         4       1.00         1200      2171   \n",
       "21565  7853420110 2015-05-04         3       3.00         2780      6000   \n",
       "\n",
       "       floors  waterfront  view  condition  grade  sqft_above  sqft_basement  \\\n",
       "94        1.0           0     0          3      8        1290            290   \n",
       "314       1.0           0     3          3     11        2690           1600   \n",
       "325       1.0           0     0          3      6         960            280   \n",
       "346       1.0           0     0          3      6        1000              0   \n",
       "372       1.0           0     0          5      7        1100           1080   \n",
       "...       ...         ...   ...        ...    ...         ...            ...   \n",
       "20165     2.0           0     0          3      9        2910              0   \n",
       "20597     2.0           0     0          3      7         990             10   \n",
       "20654     2.0           0     0          3      8        2680              0   \n",
       "20764     1.5           0     0          3      7        1200              0   \n",
       "21565     2.0           0     0          3      9        2780              0   \n",
       "\n",
       "       yr_built  yr_renovated  zipcode      lat     long  sqft_living15  \\\n",
       "94         1939             0    98117  47.6870 -122.386           1570   \n",
       "314        1997             0    98006  47.5503 -122.102           3860   \n",
       "325        1922          1984    98146  47.4957 -122.352           1820   \n",
       "346        1943             0    98178  47.4897 -122.240           1020   \n",
       "372        1954             0    98133  47.7711 -122.341           1810   \n",
       "...         ...           ...      ...      ...      ...            ...   \n",
       "20165      2012             0    98065  47.5168 -121.883           2910   \n",
       "20597      2004             0    98118  47.5419 -122.271           1330   \n",
       "20654      2013             0    98045  47.4759 -121.734           2680   \n",
       "20764      1933             0    98133  47.7076 -122.342           1130   \n",
       "21565      2013             0    98065  47.5184 -121.886           2850   \n",
       "\n",
       "       sqft_lot15    price  \n",
       "94           4500   700000  \n",
       "314         11244  1400000  \n",
       "325          7460   240500  \n",
       "346          7138   239900  \n",
       "372          6929   530000  \n",
       "...           ...      ...  \n",
       "20165        5260   645000  \n",
       "20597        1466   220000  \n",
       "20654        5992   502000  \n",
       "20764        1598   380000  \n",
       "21565        6000   625000  \n",
       "\n",
       "[177 rows x 21 columns]"
      ]
     },
     "execution_count": 5,
     "metadata": {},
     "output_type": "execute_result"
    }
   ],
   "source": [
    "home.loc[home['id'].duplicated(),:]"
   ]
  },
  {
   "cell_type": "code",
   "execution_count": 6,
   "id": "33a04dc3",
   "metadata": {},
   "outputs": [
    {
     "data": {
      "text/html": [
       "<div>\n",
       "<style scoped>\n",
       "    .dataframe tbody tr th:only-of-type {\n",
       "        vertical-align: middle;\n",
       "    }\n",
       "\n",
       "    .dataframe tbody tr th {\n",
       "        vertical-align: top;\n",
       "    }\n",
       "\n",
       "    .dataframe thead th {\n",
       "        text-align: right;\n",
       "    }\n",
       "</style>\n",
       "<table border=\"1\" class=\"dataframe\">\n",
       "  <thead>\n",
       "    <tr style=\"text-align: right;\">\n",
       "      <th></th>\n",
       "      <th>id</th>\n",
       "      <th>date</th>\n",
       "      <th>bedrooms</th>\n",
       "      <th>bathrooms</th>\n",
       "      <th>sqft_living</th>\n",
       "      <th>sqft_lot</th>\n",
       "      <th>floors</th>\n",
       "      <th>waterfront</th>\n",
       "      <th>view</th>\n",
       "      <th>condition</th>\n",
       "      <th>grade</th>\n",
       "      <th>sqft_above</th>\n",
       "      <th>sqft_basement</th>\n",
       "      <th>yr_built</th>\n",
       "      <th>yr_renovated</th>\n",
       "      <th>zipcode</th>\n",
       "      <th>lat</th>\n",
       "      <th>long</th>\n",
       "      <th>sqft_living15</th>\n",
       "      <th>sqft_lot15</th>\n",
       "      <th>price</th>\n",
       "    </tr>\n",
       "  </thead>\n",
       "  <tbody>\n",
       "    <tr>\n",
       "      <th>93</th>\n",
       "      <td>6021501535</td>\n",
       "      <td>2014-07-25</td>\n",
       "      <td>3</td>\n",
       "      <td>1.5</td>\n",
       "      <td>1580</td>\n",
       "      <td>5000</td>\n",
       "      <td>1.0</td>\n",
       "      <td>0</td>\n",
       "      <td>0</td>\n",
       "      <td>3</td>\n",
       "      <td>8</td>\n",
       "      <td>1290</td>\n",
       "      <td>290</td>\n",
       "      <td>1939</td>\n",
       "      <td>0</td>\n",
       "      <td>98117</td>\n",
       "      <td>47.687</td>\n",
       "      <td>-122.386</td>\n",
       "      <td>1570</td>\n",
       "      <td>4500</td>\n",
       "      <td>430000</td>\n",
       "    </tr>\n",
       "    <tr>\n",
       "      <th>94</th>\n",
       "      <td>6021501535</td>\n",
       "      <td>2014-12-23</td>\n",
       "      <td>3</td>\n",
       "      <td>1.5</td>\n",
       "      <td>1580</td>\n",
       "      <td>5000</td>\n",
       "      <td>1.0</td>\n",
       "      <td>0</td>\n",
       "      <td>0</td>\n",
       "      <td>3</td>\n",
       "      <td>8</td>\n",
       "      <td>1290</td>\n",
       "      <td>290</td>\n",
       "      <td>1939</td>\n",
       "      <td>0</td>\n",
       "      <td>98117</td>\n",
       "      <td>47.687</td>\n",
       "      <td>-122.386</td>\n",
       "      <td>1570</td>\n",
       "      <td>4500</td>\n",
       "      <td>700000</td>\n",
       "    </tr>\n",
       "  </tbody>\n",
       "</table>\n",
       "</div>"
      ],
      "text/plain": [
       "            id       date  bedrooms  bathrooms  sqft_living  sqft_lot  floors  \\\n",
       "93  6021501535 2014-07-25         3        1.5         1580      5000     1.0   \n",
       "94  6021501535 2014-12-23         3        1.5         1580      5000     1.0   \n",
       "\n",
       "    waterfront  view  condition  grade  sqft_above  sqft_basement  yr_built  \\\n",
       "93           0     0          3      8        1290            290      1939   \n",
       "94           0     0          3      8        1290            290      1939   \n",
       "\n",
       "    yr_renovated  zipcode     lat     long  sqft_living15  sqft_lot15   price  \n",
       "93             0    98117  47.687 -122.386           1570        4500  430000  \n",
       "94             0    98117  47.687 -122.386           1570        4500  700000  "
      ]
     },
     "execution_count": 6,
     "metadata": {},
     "output_type": "execute_result"
    }
   ],
   "source": [
    "# check to see if the ids that are duplicated are in fact the same \n",
    "\n",
    "home[home['id']==6021501535] "
   ]
  },
  {
   "cell_type": "markdown",
   "id": "cf38f8df",
   "metadata": {},
   "source": [
    "\n",
    "home=home.drop_duplicates(subset = ['id'],keep ='last')  \n",
    "# have to specify the subset or else it will take notice of any differnt column \n",
    "\n",
    "\n",
    "#https://pandas.pydata.org/docs/reference/api/pandas.DataFrame.drop_duplicates.html"
   ]
  },
  {
   "cell_type": "code",
   "execution_count": 7,
   "id": "276f0571",
   "metadata": {},
   "outputs": [
    {
     "data": {
      "text/plain": [
       "(21597, 21)"
      ]
     },
     "execution_count": 7,
     "metadata": {},
     "output_type": "execute_result"
    }
   ],
   "source": [
    "home.shape"
   ]
  },
  {
   "cell_type": "code",
   "execution_count": 8,
   "id": "908683ed",
   "metadata": {},
   "outputs": [],
   "source": [
    "home = home.drop(['id'],axis=1)"
   ]
  },
  {
   "cell_type": "code",
   "execution_count": 9,
   "id": "5448bb17",
   "metadata": {},
   "outputs": [
    {
     "name": "stdout",
     "output_type": "stream",
     "text": [
      "rows:  21597\n",
      "columns:  20\n"
     ]
    }
   ],
   "source": [
    "rows= home.shape[0]\n",
    "columns= home.shape[1] \n",
    "print('rows: ',rows)\n",
    "print('columns: ',columns)\n"
   ]
  },
  {
   "cell_type": "markdown",
   "id": "1819fe73",
   "metadata": {},
   "source": [
    "# ??? \n",
    "- The dataset consists of information on ***22,000*** properties. The dataset consists of historic data of houses sold between May 2014 to May 2015. \n",
    "- rows:  ***21597*** ???"
   ]
  },
  {
   "cell_type": "markdown",
   "id": "fb0a4cfe",
   "metadata": {},
   "source": [
    "- Id: Unique identification number for the property\n",
    "- date: the date the house was sold\n",
    "- price: the price of the house\n",
    "- waterfront: the house which has a view to a waterfront\n",
    "- condition: How good the condition is (Overall). 1 indicates worn-out property and 5 excellent.\n",
    "- grade: Overall grade given to the housing unit, based on the King County grading system. 1 poor, 13 excellent.\n",
    "- Sqft_above: square footage of house apart from the basement\n",
    "- Sqft_living15: Living room area in 2015(implies-- some renovations) This might or might not have affected the lotSize area.\n",
    "- Sqft_lot15: lotSize area in 2015(implies-- some renovations)\n"
   ]
  },
  {
   "cell_type": "markdown",
   "id": "74165b3d",
   "metadata": {},
   "source": [
    "# questions  \n",
    "- what months have the most houses sold \n",
    "- what price is most common \n",
    "- condition of properties sold most often \n",
    "- "
   ]
  },
  {
   "cell_type": "code",
   "execution_count": 10,
   "id": "9795a22f",
   "metadata": {},
   "outputs": [
    {
     "data": {
      "text/plain": [
       "Index(['date', 'bedrooms', 'bathrooms', 'sqft_living', 'sqft_lot', 'floors',\n",
       "       'waterfront', 'view', 'condition', 'grade', 'sqft_above',\n",
       "       'sqft_basement', 'yr_built', 'yr_renovated', 'zipcode', 'lat', 'long',\n",
       "       'sqft_living15', 'sqft_lot15', 'price'],\n",
       "      dtype='object')"
      ]
     },
     "execution_count": 10,
     "metadata": {},
     "output_type": "execute_result"
    }
   ],
   "source": [
    "home.columns"
   ]
  },
  {
   "cell_type": "code",
   "execution_count": 11,
   "id": "075c7dfe",
   "metadata": {},
   "outputs": [
    {
     "data": {
      "text/html": [
       "<div>\n",
       "<style scoped>\n",
       "    .dataframe tbody tr th:only-of-type {\n",
       "        vertical-align: middle;\n",
       "    }\n",
       "\n",
       "    .dataframe tbody tr th {\n",
       "        vertical-align: top;\n",
       "    }\n",
       "\n",
       "    .dataframe thead th {\n",
       "        text-align: right;\n",
       "    }\n",
       "</style>\n",
       "<table border=\"1\" class=\"dataframe\">\n",
       "  <thead>\n",
       "    <tr style=\"text-align: right;\">\n",
       "      <th></th>\n",
       "      <th>bedrooms</th>\n",
       "      <th>bathrooms</th>\n",
       "      <th>sqft_living</th>\n",
       "      <th>sqft_lot</th>\n",
       "      <th>floors</th>\n",
       "      <th>waterfront</th>\n",
       "      <th>view</th>\n",
       "      <th>condition</th>\n",
       "      <th>grade</th>\n",
       "      <th>sqft_above</th>\n",
       "      <th>sqft_basement</th>\n",
       "      <th>yr_built</th>\n",
       "      <th>yr_renovated</th>\n",
       "      <th>zipcode</th>\n",
       "      <th>lat</th>\n",
       "      <th>long</th>\n",
       "      <th>sqft_living15</th>\n",
       "      <th>sqft_lot15</th>\n",
       "      <th>price</th>\n",
       "    </tr>\n",
       "  </thead>\n",
       "  <tbody>\n",
       "    <tr>\n",
       "      <th>count</th>\n",
       "      <td>21597.000000</td>\n",
       "      <td>21597.000000</td>\n",
       "      <td>21597.000000</td>\n",
       "      <td>2.159700e+04</td>\n",
       "      <td>21597.000000</td>\n",
       "      <td>21597.000000</td>\n",
       "      <td>21597.000000</td>\n",
       "      <td>21597.000000</td>\n",
       "      <td>21597.000000</td>\n",
       "      <td>21597.000000</td>\n",
       "      <td>21597.000000</td>\n",
       "      <td>21597.000000</td>\n",
       "      <td>21597.000000</td>\n",
       "      <td>21597.000000</td>\n",
       "      <td>21597.000000</td>\n",
       "      <td>21597.000000</td>\n",
       "      <td>21597.000000</td>\n",
       "      <td>21597.000000</td>\n",
       "      <td>2.159700e+04</td>\n",
       "    </tr>\n",
       "    <tr>\n",
       "      <th>mean</th>\n",
       "      <td>3.373200</td>\n",
       "      <td>2.115826</td>\n",
       "      <td>2080.321850</td>\n",
       "      <td>1.509941e+04</td>\n",
       "      <td>1.494096</td>\n",
       "      <td>0.007547</td>\n",
       "      <td>0.234292</td>\n",
       "      <td>3.409825</td>\n",
       "      <td>7.657915</td>\n",
       "      <td>1788.596842</td>\n",
       "      <td>291.725008</td>\n",
       "      <td>1970.999676</td>\n",
       "      <td>84.464787</td>\n",
       "      <td>98077.951845</td>\n",
       "      <td>47.560093</td>\n",
       "      <td>-122.213982</td>\n",
       "      <td>1986.620318</td>\n",
       "      <td>12758.283512</td>\n",
       "      <td>5.402966e+05</td>\n",
       "    </tr>\n",
       "    <tr>\n",
       "      <th>std</th>\n",
       "      <td>0.926299</td>\n",
       "      <td>0.768984</td>\n",
       "      <td>918.106125</td>\n",
       "      <td>4.141264e+04</td>\n",
       "      <td>0.539683</td>\n",
       "      <td>0.086549</td>\n",
       "      <td>0.766390</td>\n",
       "      <td>0.650546</td>\n",
       "      <td>1.173200</td>\n",
       "      <td>827.759761</td>\n",
       "      <td>442.667800</td>\n",
       "      <td>29.375234</td>\n",
       "      <td>401.821438</td>\n",
       "      <td>53.513072</td>\n",
       "      <td>0.138552</td>\n",
       "      <td>0.140724</td>\n",
       "      <td>685.230472</td>\n",
       "      <td>27274.441950</td>\n",
       "      <td>3.673681e+05</td>\n",
       "    </tr>\n",
       "    <tr>\n",
       "      <th>min</th>\n",
       "      <td>1.000000</td>\n",
       "      <td>0.500000</td>\n",
       "      <td>370.000000</td>\n",
       "      <td>5.200000e+02</td>\n",
       "      <td>1.000000</td>\n",
       "      <td>0.000000</td>\n",
       "      <td>0.000000</td>\n",
       "      <td>1.000000</td>\n",
       "      <td>3.000000</td>\n",
       "      <td>370.000000</td>\n",
       "      <td>0.000000</td>\n",
       "      <td>1900.000000</td>\n",
       "      <td>0.000000</td>\n",
       "      <td>98001.000000</td>\n",
       "      <td>47.155900</td>\n",
       "      <td>-122.519000</td>\n",
       "      <td>399.000000</td>\n",
       "      <td>651.000000</td>\n",
       "      <td>7.800000e+04</td>\n",
       "    </tr>\n",
       "    <tr>\n",
       "      <th>25%</th>\n",
       "      <td>3.000000</td>\n",
       "      <td>1.750000</td>\n",
       "      <td>1430.000000</td>\n",
       "      <td>5.040000e+03</td>\n",
       "      <td>1.000000</td>\n",
       "      <td>0.000000</td>\n",
       "      <td>0.000000</td>\n",
       "      <td>3.000000</td>\n",
       "      <td>7.000000</td>\n",
       "      <td>1190.000000</td>\n",
       "      <td>0.000000</td>\n",
       "      <td>1951.000000</td>\n",
       "      <td>0.000000</td>\n",
       "      <td>98033.000000</td>\n",
       "      <td>47.471100</td>\n",
       "      <td>-122.328000</td>\n",
       "      <td>1490.000000</td>\n",
       "      <td>5100.000000</td>\n",
       "      <td>3.220000e+05</td>\n",
       "    </tr>\n",
       "    <tr>\n",
       "      <th>50%</th>\n",
       "      <td>3.000000</td>\n",
       "      <td>2.250000</td>\n",
       "      <td>1910.000000</td>\n",
       "      <td>7.618000e+03</td>\n",
       "      <td>1.500000</td>\n",
       "      <td>0.000000</td>\n",
       "      <td>0.000000</td>\n",
       "      <td>3.000000</td>\n",
       "      <td>7.000000</td>\n",
       "      <td>1560.000000</td>\n",
       "      <td>0.000000</td>\n",
       "      <td>1975.000000</td>\n",
       "      <td>0.000000</td>\n",
       "      <td>98065.000000</td>\n",
       "      <td>47.571800</td>\n",
       "      <td>-122.231000</td>\n",
       "      <td>1840.000000</td>\n",
       "      <td>7620.000000</td>\n",
       "      <td>4.500000e+05</td>\n",
       "    </tr>\n",
       "    <tr>\n",
       "      <th>75%</th>\n",
       "      <td>4.000000</td>\n",
       "      <td>2.500000</td>\n",
       "      <td>2550.000000</td>\n",
       "      <td>1.068500e+04</td>\n",
       "      <td>2.000000</td>\n",
       "      <td>0.000000</td>\n",
       "      <td>0.000000</td>\n",
       "      <td>4.000000</td>\n",
       "      <td>8.000000</td>\n",
       "      <td>2210.000000</td>\n",
       "      <td>560.000000</td>\n",
       "      <td>1997.000000</td>\n",
       "      <td>0.000000</td>\n",
       "      <td>98118.000000</td>\n",
       "      <td>47.678000</td>\n",
       "      <td>-122.125000</td>\n",
       "      <td>2360.000000</td>\n",
       "      <td>10083.000000</td>\n",
       "      <td>6.450000e+05</td>\n",
       "    </tr>\n",
       "    <tr>\n",
       "      <th>max</th>\n",
       "      <td>33.000000</td>\n",
       "      <td>8.000000</td>\n",
       "      <td>13540.000000</td>\n",
       "      <td>1.651359e+06</td>\n",
       "      <td>3.500000</td>\n",
       "      <td>1.000000</td>\n",
       "      <td>4.000000</td>\n",
       "      <td>5.000000</td>\n",
       "      <td>13.000000</td>\n",
       "      <td>9410.000000</td>\n",
       "      <td>4820.000000</td>\n",
       "      <td>2015.000000</td>\n",
       "      <td>2015.000000</td>\n",
       "      <td>98199.000000</td>\n",
       "      <td>47.777600</td>\n",
       "      <td>-121.315000</td>\n",
       "      <td>6210.000000</td>\n",
       "      <td>871200.000000</td>\n",
       "      <td>7.700000e+06</td>\n",
       "    </tr>\n",
       "  </tbody>\n",
       "</table>\n",
       "</div>"
      ],
      "text/plain": [
       "           bedrooms     bathrooms   sqft_living      sqft_lot        floors  \\\n",
       "count  21597.000000  21597.000000  21597.000000  2.159700e+04  21597.000000   \n",
       "mean       3.373200      2.115826   2080.321850  1.509941e+04      1.494096   \n",
       "std        0.926299      0.768984    918.106125  4.141264e+04      0.539683   \n",
       "min        1.000000      0.500000    370.000000  5.200000e+02      1.000000   \n",
       "25%        3.000000      1.750000   1430.000000  5.040000e+03      1.000000   \n",
       "50%        3.000000      2.250000   1910.000000  7.618000e+03      1.500000   \n",
       "75%        4.000000      2.500000   2550.000000  1.068500e+04      2.000000   \n",
       "max       33.000000      8.000000  13540.000000  1.651359e+06      3.500000   \n",
       "\n",
       "         waterfront          view     condition         grade    sqft_above  \\\n",
       "count  21597.000000  21597.000000  21597.000000  21597.000000  21597.000000   \n",
       "mean       0.007547      0.234292      3.409825      7.657915   1788.596842   \n",
       "std        0.086549      0.766390      0.650546      1.173200    827.759761   \n",
       "min        0.000000      0.000000      1.000000      3.000000    370.000000   \n",
       "25%        0.000000      0.000000      3.000000      7.000000   1190.000000   \n",
       "50%        0.000000      0.000000      3.000000      7.000000   1560.000000   \n",
       "75%        0.000000      0.000000      4.000000      8.000000   2210.000000   \n",
       "max        1.000000      4.000000      5.000000     13.000000   9410.000000   \n",
       "\n",
       "       sqft_basement      yr_built  yr_renovated       zipcode           lat  \\\n",
       "count   21597.000000  21597.000000  21597.000000  21597.000000  21597.000000   \n",
       "mean      291.725008   1970.999676     84.464787  98077.951845     47.560093   \n",
       "std       442.667800     29.375234    401.821438     53.513072      0.138552   \n",
       "min         0.000000   1900.000000      0.000000  98001.000000     47.155900   \n",
       "25%         0.000000   1951.000000      0.000000  98033.000000     47.471100   \n",
       "50%         0.000000   1975.000000      0.000000  98065.000000     47.571800   \n",
       "75%       560.000000   1997.000000      0.000000  98118.000000     47.678000   \n",
       "max      4820.000000   2015.000000   2015.000000  98199.000000     47.777600   \n",
       "\n",
       "               long  sqft_living15     sqft_lot15         price  \n",
       "count  21597.000000   21597.000000   21597.000000  2.159700e+04  \n",
       "mean    -122.213982    1986.620318   12758.283512  5.402966e+05  \n",
       "std        0.140724     685.230472   27274.441950  3.673681e+05  \n",
       "min     -122.519000     399.000000     651.000000  7.800000e+04  \n",
       "25%     -122.328000    1490.000000    5100.000000  3.220000e+05  \n",
       "50%     -122.231000    1840.000000    7620.000000  4.500000e+05  \n",
       "75%     -122.125000    2360.000000   10083.000000  6.450000e+05  \n",
       "max     -121.315000    6210.000000  871200.000000  7.700000e+06  "
      ]
     },
     "execution_count": 11,
     "metadata": {},
     "output_type": "execute_result"
    }
   ],
   "source": [
    "home.describe()"
   ]
  },
  {
   "cell_type": "code",
   "execution_count": 12,
   "id": "5ae1589c",
   "metadata": {},
   "outputs": [
    {
     "data": {
      "text/plain": [
       "date             datetime64[ns]\n",
       "bedrooms                  int64\n",
       "bathrooms               float64\n",
       "sqft_living               int64\n",
       "sqft_lot                  int64\n",
       "floors                  float64\n",
       "waterfront                int64\n",
       "view                      int64\n",
       "condition                 int64\n",
       "grade                     int64\n",
       "sqft_above                int64\n",
       "sqft_basement             int64\n",
       "yr_built                  int64\n",
       "yr_renovated              int64\n",
       "zipcode                   int64\n",
       "lat                     float64\n",
       "long                    float64\n",
       "sqft_living15             int64\n",
       "sqft_lot15                int64\n",
       "price                     int64\n",
       "dtype: object"
      ]
     },
     "execution_count": 12,
     "metadata": {},
     "output_type": "execute_result"
    }
   ],
   "source": [
    "home.dtypes"
   ]
  },
  {
   "cell_type": "code",
   "execution_count": 13,
   "id": "6fdb2a8a",
   "metadata": {},
   "outputs": [
    {
     "data": {
      "text/html": [
       "<div>\n",
       "<style scoped>\n",
       "    .dataframe tbody tr th:only-of-type {\n",
       "        vertical-align: middle;\n",
       "    }\n",
       "\n",
       "    .dataframe tbody tr th {\n",
       "        vertical-align: top;\n",
       "    }\n",
       "\n",
       "    .dataframe thead th {\n",
       "        text-align: right;\n",
       "    }\n",
       "</style>\n",
       "<table border=\"1\" class=\"dataframe\">\n",
       "  <thead>\n",
       "    <tr style=\"text-align: right;\">\n",
       "      <th></th>\n",
       "      <th>bedrooms</th>\n",
       "      <th>bathrooms</th>\n",
       "      <th>sqft_living</th>\n",
       "      <th>sqft_lot</th>\n",
       "      <th>floors</th>\n",
       "      <th>waterfront</th>\n",
       "      <th>view</th>\n",
       "      <th>condition</th>\n",
       "      <th>grade</th>\n",
       "      <th>sqft_above</th>\n",
       "      <th>sqft_basement</th>\n",
       "      <th>yr_built</th>\n",
       "      <th>yr_renovated</th>\n",
       "      <th>zipcode</th>\n",
       "      <th>lat</th>\n",
       "      <th>long</th>\n",
       "      <th>sqft_living15</th>\n",
       "      <th>sqft_lot15</th>\n",
       "      <th>price</th>\n",
       "    </tr>\n",
       "  </thead>\n",
       "  <tbody>\n",
       "    <tr>\n",
       "      <th>0</th>\n",
       "      <td>3</td>\n",
       "      <td>1.00</td>\n",
       "      <td>1180</td>\n",
       "      <td>5650</td>\n",
       "      <td>1.0</td>\n",
       "      <td>0</td>\n",
       "      <td>0</td>\n",
       "      <td>3</td>\n",
       "      <td>7</td>\n",
       "      <td>1180</td>\n",
       "      <td>0</td>\n",
       "      <td>1955</td>\n",
       "      <td>0</td>\n",
       "      <td>98178</td>\n",
       "      <td>47.5112</td>\n",
       "      <td>-122.257</td>\n",
       "      <td>1340</td>\n",
       "      <td>5650</td>\n",
       "      <td>221900</td>\n",
       "    </tr>\n",
       "    <tr>\n",
       "      <th>1</th>\n",
       "      <td>3</td>\n",
       "      <td>2.25</td>\n",
       "      <td>2570</td>\n",
       "      <td>7242</td>\n",
       "      <td>2.0</td>\n",
       "      <td>0</td>\n",
       "      <td>0</td>\n",
       "      <td>3</td>\n",
       "      <td>7</td>\n",
       "      <td>2170</td>\n",
       "      <td>400</td>\n",
       "      <td>1951</td>\n",
       "      <td>1991</td>\n",
       "      <td>98125</td>\n",
       "      <td>47.7210</td>\n",
       "      <td>-122.319</td>\n",
       "      <td>1690</td>\n",
       "      <td>7639</td>\n",
       "      <td>538000</td>\n",
       "    </tr>\n",
       "    <tr>\n",
       "      <th>2</th>\n",
       "      <td>2</td>\n",
       "      <td>1.00</td>\n",
       "      <td>770</td>\n",
       "      <td>10000</td>\n",
       "      <td>1.0</td>\n",
       "      <td>0</td>\n",
       "      <td>0</td>\n",
       "      <td>3</td>\n",
       "      <td>6</td>\n",
       "      <td>770</td>\n",
       "      <td>0</td>\n",
       "      <td>1933</td>\n",
       "      <td>0</td>\n",
       "      <td>98028</td>\n",
       "      <td>47.7379</td>\n",
       "      <td>-122.233</td>\n",
       "      <td>2720</td>\n",
       "      <td>8062</td>\n",
       "      <td>180000</td>\n",
       "    </tr>\n",
       "    <tr>\n",
       "      <th>3</th>\n",
       "      <td>4</td>\n",
       "      <td>3.00</td>\n",
       "      <td>1960</td>\n",
       "      <td>5000</td>\n",
       "      <td>1.0</td>\n",
       "      <td>0</td>\n",
       "      <td>0</td>\n",
       "      <td>5</td>\n",
       "      <td>7</td>\n",
       "      <td>1050</td>\n",
       "      <td>910</td>\n",
       "      <td>1965</td>\n",
       "      <td>0</td>\n",
       "      <td>98136</td>\n",
       "      <td>47.5208</td>\n",
       "      <td>-122.393</td>\n",
       "      <td>1360</td>\n",
       "      <td>5000</td>\n",
       "      <td>604000</td>\n",
       "    </tr>\n",
       "    <tr>\n",
       "      <th>4</th>\n",
       "      <td>3</td>\n",
       "      <td>2.00</td>\n",
       "      <td>1680</td>\n",
       "      <td>8080</td>\n",
       "      <td>1.0</td>\n",
       "      <td>0</td>\n",
       "      <td>0</td>\n",
       "      <td>3</td>\n",
       "      <td>8</td>\n",
       "      <td>1680</td>\n",
       "      <td>0</td>\n",
       "      <td>1987</td>\n",
       "      <td>0</td>\n",
       "      <td>98074</td>\n",
       "      <td>47.6168</td>\n",
       "      <td>-122.045</td>\n",
       "      <td>1800</td>\n",
       "      <td>7503</td>\n",
       "      <td>510000</td>\n",
       "    </tr>\n",
       "    <tr>\n",
       "      <th>...</th>\n",
       "      <td>...</td>\n",
       "      <td>...</td>\n",
       "      <td>...</td>\n",
       "      <td>...</td>\n",
       "      <td>...</td>\n",
       "      <td>...</td>\n",
       "      <td>...</td>\n",
       "      <td>...</td>\n",
       "      <td>...</td>\n",
       "      <td>...</td>\n",
       "      <td>...</td>\n",
       "      <td>...</td>\n",
       "      <td>...</td>\n",
       "      <td>...</td>\n",
       "      <td>...</td>\n",
       "      <td>...</td>\n",
       "      <td>...</td>\n",
       "      <td>...</td>\n",
       "      <td>...</td>\n",
       "    </tr>\n",
       "    <tr>\n",
       "      <th>21592</th>\n",
       "      <td>3</td>\n",
       "      <td>2.50</td>\n",
       "      <td>1530</td>\n",
       "      <td>1131</td>\n",
       "      <td>3.0</td>\n",
       "      <td>0</td>\n",
       "      <td>0</td>\n",
       "      <td>3</td>\n",
       "      <td>8</td>\n",
       "      <td>1530</td>\n",
       "      <td>0</td>\n",
       "      <td>2009</td>\n",
       "      <td>0</td>\n",
       "      <td>98103</td>\n",
       "      <td>47.6993</td>\n",
       "      <td>-122.346</td>\n",
       "      <td>1530</td>\n",
       "      <td>1509</td>\n",
       "      <td>360000</td>\n",
       "    </tr>\n",
       "    <tr>\n",
       "      <th>21593</th>\n",
       "      <td>4</td>\n",
       "      <td>2.50</td>\n",
       "      <td>2310</td>\n",
       "      <td>5813</td>\n",
       "      <td>2.0</td>\n",
       "      <td>0</td>\n",
       "      <td>0</td>\n",
       "      <td>3</td>\n",
       "      <td>8</td>\n",
       "      <td>2310</td>\n",
       "      <td>0</td>\n",
       "      <td>2014</td>\n",
       "      <td>0</td>\n",
       "      <td>98146</td>\n",
       "      <td>47.5107</td>\n",
       "      <td>-122.362</td>\n",
       "      <td>1830</td>\n",
       "      <td>7200</td>\n",
       "      <td>400000</td>\n",
       "    </tr>\n",
       "    <tr>\n",
       "      <th>21594</th>\n",
       "      <td>2</td>\n",
       "      <td>0.75</td>\n",
       "      <td>1020</td>\n",
       "      <td>1350</td>\n",
       "      <td>2.0</td>\n",
       "      <td>0</td>\n",
       "      <td>0</td>\n",
       "      <td>3</td>\n",
       "      <td>7</td>\n",
       "      <td>1020</td>\n",
       "      <td>0</td>\n",
       "      <td>2009</td>\n",
       "      <td>0</td>\n",
       "      <td>98144</td>\n",
       "      <td>47.5944</td>\n",
       "      <td>-122.299</td>\n",
       "      <td>1020</td>\n",
       "      <td>2007</td>\n",
       "      <td>402101</td>\n",
       "    </tr>\n",
       "    <tr>\n",
       "      <th>21595</th>\n",
       "      <td>3</td>\n",
       "      <td>2.50</td>\n",
       "      <td>1600</td>\n",
       "      <td>2388</td>\n",
       "      <td>2.0</td>\n",
       "      <td>0</td>\n",
       "      <td>0</td>\n",
       "      <td>3</td>\n",
       "      <td>8</td>\n",
       "      <td>1600</td>\n",
       "      <td>0</td>\n",
       "      <td>2004</td>\n",
       "      <td>0</td>\n",
       "      <td>98027</td>\n",
       "      <td>47.5345</td>\n",
       "      <td>-122.069</td>\n",
       "      <td>1410</td>\n",
       "      <td>1287</td>\n",
       "      <td>400000</td>\n",
       "    </tr>\n",
       "    <tr>\n",
       "      <th>21596</th>\n",
       "      <td>2</td>\n",
       "      <td>0.75</td>\n",
       "      <td>1020</td>\n",
       "      <td>1076</td>\n",
       "      <td>2.0</td>\n",
       "      <td>0</td>\n",
       "      <td>0</td>\n",
       "      <td>3</td>\n",
       "      <td>7</td>\n",
       "      <td>1020</td>\n",
       "      <td>0</td>\n",
       "      <td>2008</td>\n",
       "      <td>0</td>\n",
       "      <td>98144</td>\n",
       "      <td>47.5941</td>\n",
       "      <td>-122.299</td>\n",
       "      <td>1020</td>\n",
       "      <td>1357</td>\n",
       "      <td>325000</td>\n",
       "    </tr>\n",
       "  </tbody>\n",
       "</table>\n",
       "<p>21597 rows × 19 columns</p>\n",
       "</div>"
      ],
      "text/plain": [
       "       bedrooms  bathrooms  sqft_living  sqft_lot  floors  waterfront  view  \\\n",
       "0             3       1.00         1180      5650     1.0           0     0   \n",
       "1             3       2.25         2570      7242     2.0           0     0   \n",
       "2             2       1.00          770     10000     1.0           0     0   \n",
       "3             4       3.00         1960      5000     1.0           0     0   \n",
       "4             3       2.00         1680      8080     1.0           0     0   \n",
       "...         ...        ...          ...       ...     ...         ...   ...   \n",
       "21592         3       2.50         1530      1131     3.0           0     0   \n",
       "21593         4       2.50         2310      5813     2.0           0     0   \n",
       "21594         2       0.75         1020      1350     2.0           0     0   \n",
       "21595         3       2.50         1600      2388     2.0           0     0   \n",
       "21596         2       0.75         1020      1076     2.0           0     0   \n",
       "\n",
       "       condition  grade  sqft_above  sqft_basement  yr_built  yr_renovated  \\\n",
       "0              3      7        1180              0      1955             0   \n",
       "1              3      7        2170            400      1951          1991   \n",
       "2              3      6         770              0      1933             0   \n",
       "3              5      7        1050            910      1965             0   \n",
       "4              3      8        1680              0      1987             0   \n",
       "...          ...    ...         ...            ...       ...           ...   \n",
       "21592          3      8        1530              0      2009             0   \n",
       "21593          3      8        2310              0      2014             0   \n",
       "21594          3      7        1020              0      2009             0   \n",
       "21595          3      8        1600              0      2004             0   \n",
       "21596          3      7        1020              0      2008             0   \n",
       "\n",
       "       zipcode      lat     long  sqft_living15  sqft_lot15   price  \n",
       "0        98178  47.5112 -122.257           1340        5650  221900  \n",
       "1        98125  47.7210 -122.319           1690        7639  538000  \n",
       "2        98028  47.7379 -122.233           2720        8062  180000  \n",
       "3        98136  47.5208 -122.393           1360        5000  604000  \n",
       "4        98074  47.6168 -122.045           1800        7503  510000  \n",
       "...        ...      ...      ...            ...         ...     ...  \n",
       "21592    98103  47.6993 -122.346           1530        1509  360000  \n",
       "21593    98146  47.5107 -122.362           1830        7200  400000  \n",
       "21594    98144  47.5944 -122.299           1020        2007  402101  \n",
       "21595    98027  47.5345 -122.069           1410        1287  400000  \n",
       "21596    98144  47.5941 -122.299           1020        1357  325000  \n",
       "\n",
       "[21597 rows x 19 columns]"
      ]
     },
     "execution_count": 13,
     "metadata": {},
     "output_type": "execute_result"
    }
   ],
   "source": [
    "home.select_dtypes(np.number)"
   ]
  },
  {
   "cell_type": "code",
   "execution_count": 14,
   "id": "91d53217",
   "metadata": {},
   "outputs": [
    {
     "data": {
      "text/plain": [
       "3     9824\n",
       "4     6882\n",
       "2     2760\n",
       "5     1601\n",
       "6      272\n",
       "1      196\n",
       "7       38\n",
       "8       13\n",
       "9        6\n",
       "10       3\n",
       "33       1\n",
       "11       1\n",
       "Name: bedrooms, dtype: int64"
      ]
     },
     "execution_count": 14,
     "metadata": {},
     "output_type": "execute_result"
    }
   ],
   "source": [
    "home['bedrooms'].value_counts()"
   ]
  },
  {
   "cell_type": "code",
   "execution_count": 15,
   "id": "a62c4ca8",
   "metadata": {},
   "outputs": [
    {
     "data": {
      "text/plain": [
       "array([ 3,  2,  4,  5,  1,  6,  7,  8,  9, 11, 10, 33])"
      ]
     },
     "execution_count": 15,
     "metadata": {},
     "output_type": "execute_result"
    }
   ],
   "source": [
    "home['bedrooms'].unique()"
   ]
  },
  {
   "cell_type": "code",
   "execution_count": 16,
   "id": "d3d67b9c",
   "metadata": {},
   "outputs": [
    {
     "data": {
      "text/plain": [
       "1.0    10673\n",
       "2.0     8235\n",
       "1.5     1910\n",
       "3.0      611\n",
       "2.5      161\n",
       "3.5        7\n",
       "Name: floors, dtype: int64"
      ]
     },
     "execution_count": 16,
     "metadata": {},
     "output_type": "execute_result"
    }
   ],
   "source": [
    "home['floors'].value_counts() \n",
    "# space that you cant live in basment attic ?\n",
    "# is that what the .5 is for ?"
   ]
  },
  {
   "cell_type": "code",
   "execution_count": 17,
   "id": "2bd99be5",
   "metadata": {},
   "outputs": [
    {
     "data": {
      "text/plain": [
       "array([1. , 2. , 1.5, 3. , 2.5, 3.5])"
      ]
     },
     "execution_count": 17,
     "metadata": {},
     "output_type": "execute_result"
    }
   ],
   "source": [
    "home['floors'].unique()"
   ]
  },
  {
   "cell_type": "code",
   "execution_count": 18,
   "id": "58f0cab3",
   "metadata": {},
   "outputs": [
    {
     "data": {
      "text/html": [
       "<div>\n",
       "<style scoped>\n",
       "    .dataframe tbody tr th:only-of-type {\n",
       "        vertical-align: middle;\n",
       "    }\n",
       "\n",
       "    .dataframe tbody tr th {\n",
       "        vertical-align: top;\n",
       "    }\n",
       "\n",
       "    .dataframe thead th {\n",
       "        text-align: right;\n",
       "    }\n",
       "</style>\n",
       "<table border=\"1\" class=\"dataframe\">\n",
       "  <thead>\n",
       "    <tr style=\"text-align: right;\">\n",
       "      <th></th>\n",
       "      <th>date</th>\n",
       "      <th>bedrooms</th>\n",
       "      <th>bathrooms</th>\n",
       "      <th>sqft_living</th>\n",
       "      <th>sqft_lot</th>\n",
       "      <th>floors</th>\n",
       "      <th>waterfront</th>\n",
       "      <th>view</th>\n",
       "      <th>condition</th>\n",
       "      <th>grade</th>\n",
       "      <th>sqft_above</th>\n",
       "      <th>sqft_basement</th>\n",
       "      <th>yr_built</th>\n",
       "      <th>yr_renovated</th>\n",
       "      <th>zipcode</th>\n",
       "      <th>lat</th>\n",
       "      <th>long</th>\n",
       "      <th>sqft_living15</th>\n",
       "      <th>sqft_lot15</th>\n",
       "      <th>price</th>\n",
       "    </tr>\n",
       "  </thead>\n",
       "  <tbody>\n",
       "    <tr>\n",
       "      <th>484</th>\n",
       "      <td>2015-04-10</td>\n",
       "      <td>4</td>\n",
       "      <td>3.25</td>\n",
       "      <td>4860</td>\n",
       "      <td>181319</td>\n",
       "      <td>2.5</td>\n",
       "      <td>0</td>\n",
       "      <td>0</td>\n",
       "      <td>3</td>\n",
       "      <td>9</td>\n",
       "      <td>4860</td>\n",
       "      <td>0</td>\n",
       "      <td>1993</td>\n",
       "      <td>0</td>\n",
       "      <td>98074</td>\n",
       "      <td>47.6179</td>\n",
       "      <td>-122.005</td>\n",
       "      <td>3850</td>\n",
       "      <td>181319</td>\n",
       "      <td>1390000</td>\n",
       "    </tr>\n",
       "    <tr>\n",
       "      <th>518</th>\n",
       "      <td>2014-11-14</td>\n",
       "      <td>4</td>\n",
       "      <td>2.25</td>\n",
       "      <td>4760</td>\n",
       "      <td>8036</td>\n",
       "      <td>2.5</td>\n",
       "      <td>0</td>\n",
       "      <td>0</td>\n",
       "      <td>5</td>\n",
       "      <td>9</td>\n",
       "      <td>3390</td>\n",
       "      <td>1370</td>\n",
       "      <td>1916</td>\n",
       "      <td>0</td>\n",
       "      <td>98112</td>\n",
       "      <td>47.6415</td>\n",
       "      <td>-122.285</td>\n",
       "      <td>2950</td>\n",
       "      <td>9323</td>\n",
       "      <td>2250000</td>\n",
       "    </tr>\n",
       "    <tr>\n",
       "      <th>577</th>\n",
       "      <td>2014-12-11</td>\n",
       "      <td>4</td>\n",
       "      <td>4.00</td>\n",
       "      <td>6050</td>\n",
       "      <td>84942</td>\n",
       "      <td>2.5</td>\n",
       "      <td>0</td>\n",
       "      <td>2</td>\n",
       "      <td>3</td>\n",
       "      <td>9</td>\n",
       "      <td>4150</td>\n",
       "      <td>1900</td>\n",
       "      <td>2009</td>\n",
       "      <td>0</td>\n",
       "      <td>98077</td>\n",
       "      <td>47.7466</td>\n",
       "      <td>-122.029</td>\n",
       "      <td>2700</td>\n",
       "      <td>199504</td>\n",
       "      <td>930000</td>\n",
       "    </tr>\n",
       "    <tr>\n",
       "      <th>759</th>\n",
       "      <td>2014-10-24</td>\n",
       "      <td>5</td>\n",
       "      <td>1.50</td>\n",
       "      <td>2830</td>\n",
       "      <td>4000</td>\n",
       "      <td>2.5</td>\n",
       "      <td>0</td>\n",
       "      <td>0</td>\n",
       "      <td>4</td>\n",
       "      <td>8</td>\n",
       "      <td>2830</td>\n",
       "      <td>0</td>\n",
       "      <td>1918</td>\n",
       "      <td>0</td>\n",
       "      <td>98118</td>\n",
       "      <td>47.5132</td>\n",
       "      <td>-122.262</td>\n",
       "      <td>1480</td>\n",
       "      <td>4000</td>\n",
       "      <td>405600</td>\n",
       "    </tr>\n",
       "    <tr>\n",
       "      <th>815</th>\n",
       "      <td>2014-12-23</td>\n",
       "      <td>3</td>\n",
       "      <td>3.25</td>\n",
       "      <td>2660</td>\n",
       "      <td>17852</td>\n",
       "      <td>2.5</td>\n",
       "      <td>0</td>\n",
       "      <td>0</td>\n",
       "      <td>3</td>\n",
       "      <td>8</td>\n",
       "      <td>2660</td>\n",
       "      <td>0</td>\n",
       "      <td>2014</td>\n",
       "      <td>0</td>\n",
       "      <td>98010</td>\n",
       "      <td>47.3077</td>\n",
       "      <td>-122.011</td>\n",
       "      <td>1320</td>\n",
       "      <td>11876</td>\n",
       "      <td>379000</td>\n",
       "    </tr>\n",
       "    <tr>\n",
       "      <th>...</th>\n",
       "      <td>...</td>\n",
       "      <td>...</td>\n",
       "      <td>...</td>\n",
       "      <td>...</td>\n",
       "      <td>...</td>\n",
       "      <td>...</td>\n",
       "      <td>...</td>\n",
       "      <td>...</td>\n",
       "      <td>...</td>\n",
       "      <td>...</td>\n",
       "      <td>...</td>\n",
       "      <td>...</td>\n",
       "      <td>...</td>\n",
       "      <td>...</td>\n",
       "      <td>...</td>\n",
       "      <td>...</td>\n",
       "      <td>...</td>\n",
       "      <td>...</td>\n",
       "      <td>...</td>\n",
       "      <td>...</td>\n",
       "    </tr>\n",
       "    <tr>\n",
       "      <th>21245</th>\n",
       "      <td>2014-05-13</td>\n",
       "      <td>4</td>\n",
       "      <td>2.50</td>\n",
       "      <td>3520</td>\n",
       "      <td>6773</td>\n",
       "      <td>2.5</td>\n",
       "      <td>0</td>\n",
       "      <td>0</td>\n",
       "      <td>3</td>\n",
       "      <td>9</td>\n",
       "      <td>2650</td>\n",
       "      <td>870</td>\n",
       "      <td>2006</td>\n",
       "      <td>0</td>\n",
       "      <td>98136</td>\n",
       "      <td>47.5317</td>\n",
       "      <td>-122.391</td>\n",
       "      <td>2930</td>\n",
       "      <td>6458</td>\n",
       "      <td>870000</td>\n",
       "    </tr>\n",
       "    <tr>\n",
       "      <th>21264</th>\n",
       "      <td>2015-03-10</td>\n",
       "      <td>3</td>\n",
       "      <td>2.50</td>\n",
       "      <td>1900</td>\n",
       "      <td>1258</td>\n",
       "      <td>2.5</td>\n",
       "      <td>0</td>\n",
       "      <td>0</td>\n",
       "      <td>3</td>\n",
       "      <td>7</td>\n",
       "      <td>1700</td>\n",
       "      <td>200</td>\n",
       "      <td>2007</td>\n",
       "      <td>0</td>\n",
       "      <td>98119</td>\n",
       "      <td>47.6465</td>\n",
       "      <td>-122.358</td>\n",
       "      <td>1780</td>\n",
       "      <td>1877</td>\n",
       "      <td>645000</td>\n",
       "    </tr>\n",
       "    <tr>\n",
       "      <th>21329</th>\n",
       "      <td>2014-06-12</td>\n",
       "      <td>3</td>\n",
       "      <td>2.50</td>\n",
       "      <td>2570</td>\n",
       "      <td>3600</td>\n",
       "      <td>2.5</td>\n",
       "      <td>0</td>\n",
       "      <td>0</td>\n",
       "      <td>3</td>\n",
       "      <td>9</td>\n",
       "      <td>2570</td>\n",
       "      <td>0</td>\n",
       "      <td>2007</td>\n",
       "      <td>0</td>\n",
       "      <td>98027</td>\n",
       "      <td>47.5412</td>\n",
       "      <td>-121.994</td>\n",
       "      <td>2570</td>\n",
       "      <td>3600</td>\n",
       "      <td>680000</td>\n",
       "    </tr>\n",
       "    <tr>\n",
       "      <th>21441</th>\n",
       "      <td>2014-10-14</td>\n",
       "      <td>3</td>\n",
       "      <td>3.00</td>\n",
       "      <td>2330</td>\n",
       "      <td>1944</td>\n",
       "      <td>2.5</td>\n",
       "      <td>0</td>\n",
       "      <td>0</td>\n",
       "      <td>3</td>\n",
       "      <td>8</td>\n",
       "      <td>1950</td>\n",
       "      <td>380</td>\n",
       "      <td>2014</td>\n",
       "      <td>0</td>\n",
       "      <td>98027</td>\n",
       "      <td>47.5446</td>\n",
       "      <td>-122.016</td>\n",
       "      <td>2290</td>\n",
       "      <td>1407</td>\n",
       "      <td>669950</td>\n",
       "    </tr>\n",
       "    <tr>\n",
       "      <th>21486</th>\n",
       "      <td>2014-08-01</td>\n",
       "      <td>3</td>\n",
       "      <td>2.50</td>\n",
       "      <td>1510</td>\n",
       "      <td>1618</td>\n",
       "      <td>2.5</td>\n",
       "      <td>0</td>\n",
       "      <td>0</td>\n",
       "      <td>3</td>\n",
       "      <td>8</td>\n",
       "      <td>1330</td>\n",
       "      <td>180</td>\n",
       "      <td>2011</td>\n",
       "      <td>0</td>\n",
       "      <td>98199</td>\n",
       "      <td>47.6515</td>\n",
       "      <td>-122.384</td>\n",
       "      <td>1350</td>\n",
       "      <td>1397</td>\n",
       "      <td>453000</td>\n",
       "    </tr>\n",
       "  </tbody>\n",
       "</table>\n",
       "<p>161 rows × 20 columns</p>\n",
       "</div>"
      ],
      "text/plain": [
       "            date  bedrooms  bathrooms  sqft_living  sqft_lot  floors  \\\n",
       "484   2015-04-10         4       3.25         4860    181319     2.5   \n",
       "518   2014-11-14         4       2.25         4760      8036     2.5   \n",
       "577   2014-12-11         4       4.00         6050     84942     2.5   \n",
       "759   2014-10-24         5       1.50         2830      4000     2.5   \n",
       "815   2014-12-23         3       3.25         2660     17852     2.5   \n",
       "...          ...       ...        ...          ...       ...     ...   \n",
       "21245 2014-05-13         4       2.50         3520      6773     2.5   \n",
       "21264 2015-03-10         3       2.50         1900      1258     2.5   \n",
       "21329 2014-06-12         3       2.50         2570      3600     2.5   \n",
       "21441 2014-10-14         3       3.00         2330      1944     2.5   \n",
       "21486 2014-08-01         3       2.50         1510      1618     2.5   \n",
       "\n",
       "       waterfront  view  condition  grade  sqft_above  sqft_basement  \\\n",
       "484             0     0          3      9        4860              0   \n",
       "518             0     0          5      9        3390           1370   \n",
       "577             0     2          3      9        4150           1900   \n",
       "759             0     0          4      8        2830              0   \n",
       "815             0     0          3      8        2660              0   \n",
       "...           ...   ...        ...    ...         ...            ...   \n",
       "21245           0     0          3      9        2650            870   \n",
       "21264           0     0          3      7        1700            200   \n",
       "21329           0     0          3      9        2570              0   \n",
       "21441           0     0          3      8        1950            380   \n",
       "21486           0     0          3      8        1330            180   \n",
       "\n",
       "       yr_built  yr_renovated  zipcode      lat     long  sqft_living15  \\\n",
       "484        1993             0    98074  47.6179 -122.005           3850   \n",
       "518        1916             0    98112  47.6415 -122.285           2950   \n",
       "577        2009             0    98077  47.7466 -122.029           2700   \n",
       "759        1918             0    98118  47.5132 -122.262           1480   \n",
       "815        2014             0    98010  47.3077 -122.011           1320   \n",
       "...         ...           ...      ...      ...      ...            ...   \n",
       "21245      2006             0    98136  47.5317 -122.391           2930   \n",
       "21264      2007             0    98119  47.6465 -122.358           1780   \n",
       "21329      2007             0    98027  47.5412 -121.994           2570   \n",
       "21441      2014             0    98027  47.5446 -122.016           2290   \n",
       "21486      2011             0    98199  47.6515 -122.384           1350   \n",
       "\n",
       "       sqft_lot15    price  \n",
       "484        181319  1390000  \n",
       "518          9323  2250000  \n",
       "577        199504   930000  \n",
       "759          4000   405600  \n",
       "815         11876   379000  \n",
       "...           ...      ...  \n",
       "21245        6458   870000  \n",
       "21264        1877   645000  \n",
       "21329        3600   680000  \n",
       "21441        1407   669950  \n",
       "21486        1397   453000  \n",
       "\n",
       "[161 rows x 20 columns]"
      ]
     },
     "execution_count": 18,
     "metadata": {},
     "output_type": "execute_result"
    }
   ],
   "source": [
    "home[home['floors']==2.5] \n",
    "#check to see if places with this score have an attic or a basment "
   ]
  },
  {
   "cell_type": "code",
   "execution_count": 19,
   "id": "75779980",
   "metadata": {},
   "outputs": [
    {
     "data": {
      "text/plain": [
       "0    19475\n",
       "2      961\n",
       "3      510\n",
       "1      332\n",
       "4      319\n",
       "Name: view, dtype: int64"
      ]
     },
     "execution_count": 19,
     "metadata": {},
     "output_type": "execute_result"
    }
   ],
   "source": [
    "home['view'].value_counts()"
   ]
  },
  {
   "cell_type": "code",
   "execution_count": 20,
   "id": "2218e60d",
   "metadata": {},
   "outputs": [
    {
     "data": {
      "text/plain": [
       "array([0, 3, 4, 2, 1])"
      ]
     },
     "execution_count": 20,
     "metadata": {},
     "output_type": "execute_result"
    }
   ],
   "source": [
    "home['view'].unique()"
   ]
  },
  {
   "cell_type": "code",
   "execution_count": 21,
   "id": "0a45bc13",
   "metadata": {},
   "outputs": [
    {
     "data": {
      "text/plain": [
       "0    21434\n",
       "1      163\n",
       "Name: waterfront, dtype: int64"
      ]
     },
     "execution_count": 21,
     "metadata": {},
     "output_type": "execute_result"
    }
   ],
   "source": [
    "home['waterfront'].value_counts()"
   ]
  },
  {
   "cell_type": "code",
   "execution_count": 22,
   "id": "58ea54ea",
   "metadata": {},
   "outputs": [
    {
     "data": {
      "text/plain": [
       "array([0, 1])"
      ]
     },
     "execution_count": 22,
     "metadata": {},
     "output_type": "execute_result"
    }
   ],
   "source": [
    "home['waterfront'].unique()"
   ]
  },
  {
   "cell_type": "code",
   "execution_count": 23,
   "id": "310705f8",
   "metadata": {},
   "outputs": [
    {
     "data": {
      "text/plain": [
       "3    14020\n",
       "4     5677\n",
       "5     1701\n",
       "2      170\n",
       "1       29\n",
       "Name: condition, dtype: int64"
      ]
     },
     "execution_count": 23,
     "metadata": {},
     "output_type": "execute_result"
    }
   ],
   "source": [
    "home['condition'].value_counts()"
   ]
  },
  {
   "cell_type": "code",
   "execution_count": 24,
   "id": "33880a3a",
   "metadata": {},
   "outputs": [],
   "source": [
    "#note\n",
    "#what should you categorize lat and log as anther obj?\n",
    "# lat and long would be greate for tableau story map graph  \n",
    "#should zip code also be included ?? \n",
    "# the column grade carries weight for each number so do not change it to categorical "
   ]
  },
  {
   "cell_type": "code",
   "execution_count": 25,
   "id": "dc2d7d97",
   "metadata": {},
   "outputs": [
    {
     "data": {
      "text/plain": [
       "7     8974\n",
       "8     6065\n",
       "9     2615\n",
       "6     2038\n",
       "10    1134\n",
       "11     399\n",
       "5      242\n",
       "12      89\n",
       "4       27\n",
       "13      13\n",
       "3        1\n",
       "Name: grade, dtype: int64"
      ]
     },
     "execution_count": 25,
     "metadata": {},
     "output_type": "execute_result"
    }
   ],
   "source": [
    "home['grade'].value_counts()"
   ]
  },
  {
   "cell_type": "code",
   "execution_count": 26,
   "id": "1c32542e",
   "metadata": {},
   "outputs": [
    {
     "data": {
      "text/plain": [
       "0       13110\n",
       "600       221\n",
       "700       218\n",
       "500       214\n",
       "800       206\n",
       "        ...  \n",
       "65          1\n",
       "1248        1\n",
       "172         1\n",
       "1920        1\n",
       "1135        1\n",
       "Name: sqft_basement, Length: 306, dtype: int64"
      ]
     },
     "execution_count": 26,
     "metadata": {},
     "output_type": "execute_result"
    }
   ],
   "source": [
    "home['sqft_basement'].value_counts()"
   ]
  },
  {
   "cell_type": "code",
   "execution_count": 27,
   "id": "471f1676",
   "metadata": {},
   "outputs": [
    {
     "data": {
      "text/plain": [
       "0       20683\n",
       "2014       91\n",
       "2013       37\n",
       "2003       36\n",
       "2007       35\n",
       "        ...  \n",
       "1948        1\n",
       "1954        1\n",
       "1951        1\n",
       "1944        1\n",
       "1959        1\n",
       "Name: yr_renovated, Length: 70, dtype: int64"
      ]
     },
     "execution_count": 27,
     "metadata": {},
     "output_type": "execute_result"
    }
   ],
   "source": [
    "home['yr_renovated'].value_counts()"
   ]
  },
  {
   "cell_type": "code",
   "execution_count": 28,
   "id": "cbc16c9e",
   "metadata": {},
   "outputs": [],
   "source": [
    "#home.select_dtypes(np.object) #none all of them are numercial, though the columns with ratings could be categorized differently "
   ]
  },
  {
   "cell_type": "code",
   "execution_count": 29,
   "id": "8ae6013b",
   "metadata": {},
   "outputs": [
    {
     "data": {
      "text/plain": [
       "date             0\n",
       "bedrooms         0\n",
       "bathrooms        0\n",
       "sqft_living      0\n",
       "sqft_lot         0\n",
       "floors           0\n",
       "waterfront       0\n",
       "view             0\n",
       "condition        0\n",
       "grade            0\n",
       "sqft_above       0\n",
       "sqft_basement    0\n",
       "yr_built         0\n",
       "yr_renovated     0\n",
       "zipcode          0\n",
       "lat              0\n",
       "long             0\n",
       "sqft_living15    0\n",
       "sqft_lot15       0\n",
       "price            0\n",
       "dtype: int64"
      ]
     },
     "execution_count": 29,
     "metadata": {},
     "output_type": "execute_result"
    }
   ],
   "source": [
    "home.isna().sum()"
   ]
  },
  {
   "cell_type": "code",
   "execution_count": 30,
   "id": "8d098b98",
   "metadata": {},
   "outputs": [
    {
     "data": {
      "text/plain": [
       "['date',\n",
       " 'bedrooms',\n",
       " 'bathrooms',\n",
       " 'sqft_living',\n",
       " 'sqft_lot',\n",
       " 'floors',\n",
       " 'waterfront',\n",
       " 'view',\n",
       " 'condition',\n",
       " 'grade',\n",
       " 'sqft_above',\n",
       " 'sqft_basement',\n",
       " 'yr_built',\n",
       " 'yr_renovated',\n",
       " 'zipcode',\n",
       " 'lat',\n",
       " 'long',\n",
       " 'sqft_living15',\n",
       " 'sqft_lot15',\n",
       " 'price']"
      ]
     },
     "execution_count": 30,
     "metadata": {},
     "output_type": "execute_result"
    }
   ],
   "source": [
    "col= list(home.columns)\n",
    "col"
   ]
  },
  {
   "cell_type": "markdown",
   "id": "4af91c80",
   "metadata": {},
   "source": [
    "# HISTOGRAMS \n",
    "- check out the data in some histograms  \n",
    "- REMEMBER \n",
    "    - that you can apply log or r^2\n",
    "    -def log_transfom_clean_(x):\n",
    "    if np.isfinite(x) and x!=0:\n",
    "        return np.log(x)\n",
    "    else:\n",
    "        return np.NAN # We are returning NaNs so that we can replace them later\n",
    "    - if you want the data to look closer to a normal curve  \n",
    "- ***"
   ]
  },
  {
   "cell_type": "code",
   "execution_count": null,
   "id": "33d249dc",
   "metadata": {},
   "outputs": [],
   "source": [
    "# apply chi2_contigency on the arrays you want ,scipy.stats.chisquare \n",
    "# HELP ask what the difference between these 2 is "
   ]
  },
  {
   "cell_type": "code",
   "execution_count": null,
   "id": "b4d423ab",
   "metadata": {},
   "outputs": [],
   "source": []
  },
  {
   "cell_type": "code",
   "execution_count": null,
   "id": "b567a507",
   "metadata": {},
   "outputs": [],
   "source": []
  },
  {
   "cell_type": "code",
   "execution_count": 31,
   "id": "e0cc8b1f",
   "metadata": {},
   "outputs": [],
   "source": [
    "#make it so it prints a title \n",
    "def plot_hist(x): \n",
    "    print(x)\n",
    "    home[x].hist()\n",
    "    plt.show()"
   ]
  },
  {
   "cell_type": "code",
   "execution_count": 32,
   "id": "fe297d7b",
   "metadata": {},
   "outputs": [
    {
     "name": "stdout",
     "output_type": "stream",
     "text": [
      "date\n"
     ]
    },
    {
     "data": {
      "image/png": "[encoded data removed]",
      "text/plain": [
       "<Figure size 432x288 with 1 Axes>"
      ]
     },
     "metadata": {
      "needs_background": "light"
     },
     "output_type": "display_data"
    },
    {
     "name": "stdout",
     "output_type": "stream",
     "text": [
      "bedrooms\n"
     ]
    },
    {
     "data": {
      "image/png": "[encoded data removed]",
      "text/plain": [
       "<Figure size 432x288 with 1 Axes>"
      ]
     },
     "metadata": {
      "needs_background": "light"
     },
     "output_type": "display_data"
    },
    {
     "name": "stdout",
     "output_type": "stream",
     "text": [
      "bathrooms\n"
     ]
    },
    {
     "data": {
      "image/png": "[encoded data removed]",
      "text/plain": [
       "<Figure size 432x288 with 1 Axes>"
      ]
     },
     "metadata": {
      "needs_background": "light"
     },
     "output_type": "display_data"
    },
    {
     "name": "stdout",
     "output_type": "stream",
     "text": [
      "sqft_living\n"
     ]
    },
    {
     "data": {
      "image/png": "[encoded data removed]",
      "text/plain": [
       "<Figure size 432x288 with 1 Axes>"
      ]
     },
     "metadata": {
      "needs_background": "light"
     },
     "output_type": "display_data"
    },
    {
     "name": "stdout",
     "output_type": "stream",
     "text": [
      "sqft_lot\n"
     ]
    },
    {
     "data": {
      "image/png": "[encoded data removed]",
      "text/plain": [
       "<Figure size 432x288 with 1 Axes>"
      ]
     },
     "metadata": {
      "needs_background": "light"
     },
     "output_type": "display_data"
    },
    {
     "name": "stdout",
     "output_type": "stream",
     "text": [
      "floors\n"
     ]
    },
    {
     "data": {
      "image/png": "[encoded data removed]",
      "text/plain": [
       "<Figure size 432x288 with 1 Axes>"
      ]
     },
     "metadata": {
      "needs_background": "light"
     },
     "output_type": "display_data"
    },
    {
     "name": "stdout",
     "output_type": "stream",
     "text": [
      "waterfront\n"
     ]
    },
    {
     "data": {
      "image/png": "[encoded data removed]",
      "text/plain": [
       "<Figure size 432x288 with 1 Axes>"
      ]
     },
     "metadata": {
      "needs_background": "light"
     },
     "output_type": "display_data"
    },
    {
     "name": "stdout",
     "output_type": "stream",
     "text": [
      "view\n"
     ]
    },
    {
     "data": {
      "image/png": "[encoded data removed]",
      "text/plain": [
       "<Figure size 432x288 with 1 Axes>"
      ]
     },
     "metadata": {
      "needs_background": "light"
     },
     "output_type": "display_data"
    },
    {
     "name": "stdout",
     "output_type": "stream",
     "text": [
      "condition\n"
     ]
    },
    {
     "data": {
      "image/png": "[encoded data removed]",
      "text/plain": [
       "<Figure size 432x288 with 1 Axes>"
      ]
     },
     "metadata": {
      "needs_background": "light"
     },
     "output_type": "display_data"
    },
    {
     "name": "stdout",
     "output_type": "stream",
     "text": [
      "grade\n"
     ]
    },
    {
     "data": {
      "image/png": "[encoded data removed]",
      "text/plain": [
       "<Figure size 432x288 with 1 Axes>"
      ]
     },
     "metadata": {
      "needs_background": "light"
     },
     "output_type": "display_data"
    },
    {
     "name": "stdout",
     "output_type": "stream",
     "text": [
      "sqft_above\n"
     ]
    },
    {
     "data": {
      "image/png": "[encoded data removed]",
      "text/plain": [
       "<Figure size 432x288 with 1 Axes>"
      ]
     },
     "metadata": {
      "needs_background": "light"
     },
     "output_type": "display_data"
    },
    {
     "name": "stdout",
     "output_type": "stream",
     "text": [
      "sqft_basement\n"
     ]
    },
    {
     "data": {
      "image/png": "[encoded data removed]",
      "text/plain": [
       "<Figure size 432x288 with 1 Axes>"
      ]
     },
     "metadata": {
      "needs_background": "light"
     },
     "output_type": "display_data"
    },
    {
     "name": "stdout",
     "output_type": "stream",
     "text": [
      "yr_built\n"
     ]
    },
    {
     "data": {
      "image/png": "[encoded data removed]",
      "text/plain": [
       "<Figure size 432x288 with 1 Axes>"
      ]
     },
     "metadata": {
      "needs_background": "light"
     },
     "output_type": "display_data"
    },
    {
     "name": "stdout",
     "output_type": "stream",
     "text": [
      "yr_renovated\n"
     ]
    },
    {
     "data": {
      "image/png": "[encoded data removed]",
      "text/plain": [
       "<Figure size 432x288 with 1 Axes>"
      ]
     },
     "metadata": {
      "needs_background": "light"
     },
     "output_type": "display_data"
    },
    {
     "name": "stdout",
     "output_type": "stream",
     "text": [
      "zipcode\n"
     ]
    },
    {
     "data": {
      "image/png": "[encoded data removed]",
      "text/plain": [
       "<Figure size 432x288 with 1 Axes>"
      ]
     },
     "metadata": {
      "needs_background": "light"
     },
     "output_type": "display_data"
    },
    {
     "name": "stdout",
     "output_type": "stream",
     "text": [
      "lat\n"
     ]
    },
    {
     "data": {
      "image/png": "[encoded data removed]",
      "text/plain": [
       "<Figure size 432x288 with 1 Axes>"
      ]
     },
     "metadata": {
      "needs_background": "light"
     },
     "output_type": "display_data"
    },
    {
     "name": "stdout",
     "output_type": "stream",
     "text": [
      "long\n"
     ]
    },
    {
     "data": {
      "image/png": "[encoded data removed]",
      "text/plain": [
       "<Figure size 432x288 with 1 Axes>"
      ]
     },
     "metadata": {
      "needs_background": "light"
     },
     "output_type": "display_data"
    },
    {
     "name": "stdout",
     "output_type": "stream",
     "text": [
      "sqft_living15\n"
     ]
    },
    {
     "data": {
      "image/png": "[encoded data removed]",
      "text/plain": [
       "<Figure size 432x288 with 1 Axes>"
      ]
     },
     "metadata": {
      "needs_background": "light"
     },
     "output_type": "display_data"
    },
    {
     "name": "stdout",
     "output_type": "stream",
     "text": [
      "sqft_lot15\n"
     ]
    },
    {
     "data": {
      "image/png": "[encoded data removed]",
      "text/plain": [
       "<Figure size 432x288 with 1 Axes>"
      ]
     },
     "metadata": {
      "needs_background": "light"
     },
     "output_type": "display_data"
    },
    {
     "name": "stdout",
     "output_type": "stream",
     "text": [
      "price\n"
     ]
    },
    {
     "data": {
      "image/png": "[encoded data removed]",
      "text/plain": [
       "<Figure size 432x288 with 1 Axes>"
      ]
     },
     "metadata": {
      "needs_background": "light"
     },
     "output_type": "display_data"
    },
    {
     "data": {
      "text/plain": [
       "[None,\n",
       " None,\n",
       " None,\n",
       " None,\n",
       " None,\n",
       " None,\n",
       " None,\n",
       " None,\n",
       " None,\n",
       " None,\n",
       " None,\n",
       " None,\n",
       " None,\n",
       " None,\n",
       " None,\n",
       " None,\n",
       " None,\n",
       " None,\n",
       " None,\n",
       " None]"
      ]
     },
     "execution_count": 32,
     "metadata": {},
     "output_type": "execute_result"
    }
   ],
   "source": [
    "list(map(plot_hist,home.columns))\n",
    "# grade,sqft_above,sqft_basement,long,sqft_living15\n",
    "    # see if you can make them look closer to a normal distribution using r^2 or logs "
   ]
  },
  {
   "cell_type": "markdown",
   "id": "c7b013f1",
   "metadata": {},
   "source": [
    "# BOXPLOTS\n",
    "- clean out all the outliers exclude the columns with ratings use the example that if it has more than a ceratin number of values its a categorical   \n",
    "- look at week 10 ]\n",
    "- looks at lesson self guided \n",
    "    - make a map function for each individual column \n"
   ]
  },
  {
   "cell_type": "code",
   "execution_count": 33,
   "id": "178c3c02",
   "metadata": {},
   "outputs": [],
   "source": [
    "def plot_hist(x): \n",
    "    print(x)\n",
    "    plt.boxplot(home[x])\n",
    "    plt.show()"
   ]
  },
  {
   "cell_type": "code",
   "execution_count": null,
   "id": "1c17d531",
   "metadata": {},
   "outputs": [],
   "source": []
  },
  {
   "cell_type": "code",
   "execution_count": 34,
   "id": "f508b777",
   "metadata": {},
   "outputs": [
    {
     "name": "stdout",
     "output_type": "stream",
     "text": [
      "bedrooms\n"
     ]
    },
    {
     "data": {
      "image/png": "[encoded data removed]",
      "text/plain": [
       "<Figure size 432x288 with 1 Axes>"
      ]
     },
     "metadata": {
      "needs_background": "light"
     },
     "output_type": "display_data"
    },
    {
     "name": "stdout",
     "output_type": "stream",
     "text": [
      "bathrooms\n"
     ]
    },
    {
     "data": {
      "image/png": "[encoded data removed]",
      "text/plain": [
       "<Figure size 432x288 with 1 Axes>"
      ]
     },
     "metadata": {
      "needs_background": "light"
     },
     "output_type": "display_data"
    },
    {
     "name": "stdout",
     "output_type": "stream",
     "text": [
      "sqft_living\n"
     ]
    },
    {
     "data": {
      "image/png": "[encoded data removed]",
      "text/plain": [
       "<Figure size 432x288 with 1 Axes>"
      ]
     },
     "metadata": {
      "needs_background": "light"
     },
     "output_type": "display_data"
    },
    {
     "name": "stdout",
     "output_type": "stream",
     "text": [
      "sqft_lot\n"
     ]
    },
    {
     "data": {
      "image/png": "[encoded data removed]",
      "text/plain": [
       "<Figure size 432x288 with 1 Axes>"
      ]
     },
     "metadata": {
      "needs_background": "light"
     },
     "output_type": "display_data"
    },
    {
     "name": "stdout",
     "output_type": "stream",
     "text": [
      "floors\n"
     ]
    },
    {
     "data": {
      "image/png": "[encoded data removed]",
      "text/plain": [
       "<Figure size 432x288 with 1 Axes>"
      ]
     },
     "metadata": {
      "needs_background": "light"
     },
     "output_type": "display_data"
    },
    {
     "name": "stdout",
     "output_type": "stream",
     "text": [
      "waterfront\n"
     ]
    },
    {
     "data": {
      "image/png": "[encoded data removed]",
      "text/plain": [
       "<Figure size 432x288 with 1 Axes>"
      ]
     },
     "metadata": {
      "needs_background": "light"
     },
     "output_type": "display_data"
    },
    {
     "name": "stdout",
     "output_type": "stream",
     "text": [
      "view\n"
     ]
    },
    {
     "data": {
      "image/png": "[encoded data removed]",
      "text/plain": [
       "<Figure size 432x288 with 1 Axes>"
      ]
     },
     "metadata": {
      "needs_background": "light"
     },
     "output_type": "display_data"
    },
    {
     "name": "stdout",
     "output_type": "stream",
     "text": [
      "condition\n"
     ]
    },
    {
     "data": {
      "image/png": "[encoded data removed]",
      "text/plain": [
       "<Figure size 432x288 with 1 Axes>"
      ]
     },
     "metadata": {
      "needs_background": "light"
     },
     "output_type": "display_data"
    },
    {
     "name": "stdout",
     "output_type": "stream",
     "text": [
      "grade\n"
     ]
    },
    {
     "data": {
      "image/png": "[encoded data removed]",
      "text/plain": [
       "<Figure size 432x288 with 1 Axes>"
      ]
     },
     "metadata": {
      "needs_background": "light"
     },
     "output_type": "display_data"
    },
    {
     "name": "stdout",
     "output_type": "stream",
     "text": [
      "sqft_above\n"
     ]
    },
    {
     "data": {
      "image/png": "[encoded data removed]",
      "text/plain": [
       "<Figure size 432x288 with 1 Axes>"
      ]
     },
     "metadata": {
      "needs_background": "light"
     },
     "output_type": "display_data"
    },
    {
     "name": "stdout",
     "output_type": "stream",
     "text": [
      "sqft_basement\n"
     ]
    },
    {
     "data": {
      "image/png": "[encoded data removed]",
      "text/plain": [
       "<Figure size 432x288 with 1 Axes>"
      ]
     },
     "metadata": {
      "needs_background": "light"
     },
     "output_type": "display_data"
    },
    {
     "name": "stdout",
     "output_type": "stream",
     "text": [
      "yr_built\n"
     ]
    },
    {
     "data": {
      "image/png": "[encoded data removed]",
      "text/plain": [
       "<Figure size 432x288 with 1 Axes>"
      ]
     },
     "metadata": {
      "needs_background": "light"
     },
     "output_type": "display_data"
    },
    {
     "name": "stdout",
     "output_type": "stream",
     "text": [
      "yr_renovated\n"
     ]
    },
    {
     "data": {
      "image/png": "[encoded data removed]",
      "text/plain": [
       "<Figure size 432x288 with 1 Axes>"
      ]
     },
     "metadata": {
      "needs_background": "light"
     },
     "output_type": "display_data"
    },
    {
     "name": "stdout",
     "output_type": "stream",
     "text": [
      "zipcode\n"
     ]
    },
    {
     "data": {
      "image/png": "[encoded data removed]",
      "text/plain": [
       "<Figure size 432x288 with 1 Axes>"
      ]
     },
     "metadata": {
      "needs_background": "light"
     },
     "output_type": "display_data"
    },
    {
     "name": "stdout",
     "output_type": "stream",
     "text": [
      "lat\n"
     ]
    },
    {
     "data": {
      "image/png": "[encoded data removed]",
      "text/plain": [
       "<Figure size 432x288 with 1 Axes>"
      ]
     },
     "metadata": {
      "needs_background": "light"
     },
     "output_type": "display_data"
    },
    {
     "name": "stdout",
     "output_type": "stream",
     "text": [
      "long\n"
     ]
    },
    {
     "data": {
      "image/png": "[encoded data removed]",
      "text/plain": [
       "<Figure size 432x288 with 1 Axes>"
      ]
     },
     "metadata": {
      "needs_background": "light"
     },
     "output_type": "display_data"
    },
    {
     "name": "stdout",
     "output_type": "stream",
     "text": [
      "sqft_living15\n"
     ]
    },
    {
     "data": {
      "image/png": "[encoded data removed]",
      "text/plain": [
       "<Figure size 432x288 with 1 Axes>"
      ]
     },
     "metadata": {
      "needs_background": "light"
     },
     "output_type": "display_data"
    },
    {
     "name": "stdout",
     "output_type": "stream",
     "text": [
      "sqft_lot15\n"
     ]
    },
    {
     "data": {
      "image/png": "[encoded data removed]",
      "text/plain": [
       "<Figure size 432x288 with 1 Axes>"
      ]
     },
     "metadata": {
      "needs_background": "light"
     },
     "output_type": "display_data"
    },
    {
     "name": "stdout",
     "output_type": "stream",
     "text": [
      "price\n"
     ]
    },
    {
     "data": {
      "image/png": "[encoded data removed]",
      "text/plain": [
       "<Figure size 432x288 with 1 Axes>"
      ]
     },
     "metadata": {
      "needs_background": "light"
     },
     "output_type": "display_data"
    },
    {
     "data": {
      "text/plain": [
       "[None,\n",
       " None,\n",
       " None,\n",
       " None,\n",
       " None,\n",
       " None,\n",
       " None,\n",
       " None,\n",
       " None,\n",
       " None,\n",
       " None,\n",
       " None,\n",
       " None,\n",
       " None,\n",
       " None,\n",
       " None,\n",
       " None,\n",
       " None,\n",
       " None]"
      ]
     },
     "execution_count": 34,
     "metadata": {},
     "output_type": "execute_result"
    }
   ],
   "source": [
    "# probably best to do them individually then remove the outliers \n",
    "list(map(plot_hist,(home.select_dtypes(np.number).columns)))\n"
   ]
  },
  {
   "cell_type": "code",
   "execution_count": 35,
   "id": "0d366a7a",
   "metadata": {},
   "outputs": [
    {
     "data": {
      "text/plain": [
       "Index(['date', 'bedrooms', 'bathrooms', 'sqft_living', 'sqft_lot', 'floors',\n",
       "       'waterfront', 'view', 'condition', 'grade', 'sqft_above',\n",
       "       'sqft_basement', 'yr_built', 'yr_renovated', 'zipcode', 'lat', 'long',\n",
       "       'sqft_living15', 'sqft_lot15', 'price'],\n",
       "      dtype='object')"
      ]
     },
     "execution_count": 35,
     "metadata": {},
     "output_type": "execute_result"
    }
   ],
   "source": [
    "home.columns"
   ]
  },
  {
   "cell_type": "code",
   "execution_count": 36,
   "id": "f5f6ca29",
   "metadata": {},
   "outputs": [
    {
     "data": {
      "text/plain": [
       "(21597,)"
      ]
     },
     "execution_count": 36,
     "metadata": {},
     "output_type": "execute_result"
    }
   ],
   "source": [
    "home['bathrooms'].shape"
   ]
  },
  {
   "cell_type": "code",
   "execution_count": 37,
   "id": "b7d42c69",
   "metadata": {},
   "outputs": [
    {
     "data": {
      "text/plain": [
       "2.50    5377\n",
       "1.00    3851\n",
       "1.75    3048\n",
       "2.25    2047\n",
       "2.00    1930\n",
       "1.50    1445\n",
       "2.75    1185\n",
       "3.00     753\n",
       "3.50     731\n",
       "3.25     589\n",
       "3.75     155\n",
       "4.00     136\n",
       "4.50     100\n",
       "4.25      79\n",
       "0.75      71\n",
       "4.75      23\n",
       "5.00      21\n",
       "5.25      13\n",
       "5.50      10\n",
       "1.25       9\n",
       "6.00       6\n",
       "5.75       4\n",
       "0.50       4\n",
       "6.25       2\n",
       "8.00       2\n",
       "6.75       2\n",
       "6.50       2\n",
       "7.75       1\n",
       "7.50       1\n",
       "Name: bathrooms, dtype: int64"
      ]
     },
     "execution_count": 37,
     "metadata": {},
     "output_type": "execute_result"
    }
   ],
   "source": [
    "home['bathrooms'].value_counts()"
   ]
  },
  {
   "cell_type": "code",
   "execution_count": 38,
   "id": "05d3ed23",
   "metadata": {
    "scrolled": true
   },
   "outputs": [
    {
     "name": "stdout",
     "output_type": "stream",
     "text": [
      "bathrooms\n"
     ]
    },
    {
     "data": {
      "image/png": "[encoded data removed]",
      "text/plain": [
       "<Figure size 432x288 with 1 Axes>"
      ]
     },
     "metadata": {
      "needs_background": "light"
     },
     "output_type": "display_data"
    }
   ],
   "source": [
    "plot_hist('bathrooms')"
   ]
  },
  {
   "cell_type": "code",
   "execution_count": null,
   "id": "286caa54",
   "metadata": {},
   "outputs": [],
   "source": [
    "#note \n",
    "- for bathrooms it might be best just to apply a filter instead of using the iqr method \n",
    "- also practice changing the 1.5 to see how it changes what values are included "
   ]
  },
  {
   "cell_type": "code",
   "execution_count": 39,
   "id": "20369fb3",
   "metadata": {},
   "outputs": [],
   "source": [
    "iqr = np.percentile(home['bathrooms'],75)-np.percentile(home['bathrooms'],25) \n",
    "upper_limit = np.percentile(home['bathrooms'],75)+1.5*iqr\n",
    "lower_limit = np.percentile(home['bathrooms'],25)-1.5*iqr\n",
    "home = home[(home['bathrooms']<upper_limit) & (home['bathrooms']>lower_limit)] #storing a dataframe into a column \n",
    "\n",
    "#filtering on one column but you are storing the results in a datframe and not just a column \n",
    "# the left hand side should match the right hand side "
   ]
  },
  {
   "cell_type": "code",
   "execution_count": 40,
   "id": "74884510",
   "metadata": {},
   "outputs": [
    {
     "data": {
      "text/plain": [
       "2.50    5377\n",
       "1.00    3851\n",
       "1.75    3048\n",
       "2.25    2047\n",
       "2.00    1930\n",
       "1.50    1445\n",
       "2.75    1185\n",
       "3.00     753\n",
       "3.50     731\n",
       "3.25     589\n",
       "0.75      71\n",
       "1.25       9\n",
       "Name: bathrooms, dtype: int64"
      ]
     },
     "execution_count": 40,
     "metadata": {},
     "output_type": "execute_result"
    }
   ],
   "source": [
    "home['bathrooms'].value_counts()"
   ]
  },
  {
   "cell_type": "code",
   "execution_count": 41,
   "id": "e8a2d7b2",
   "metadata": {},
   "outputs": [
    {
     "data": {
      "text/plain": [
       "{'whiskers': [<matplotlib.lines.Line2D at 0x7ff49875c040>,\n",
       "  <matplotlib.lines.Line2D at 0x7ff49875cc10>],\n",
       " 'caps': [<matplotlib.lines.Line2D at 0x7ff49875cee0>,\n",
       "  <matplotlib.lines.Line2D at 0x7ff4977e02e0>],\n",
       " 'boxes': [<matplotlib.lines.Line2D at 0x7ff49875c430>],\n",
       " 'medians': [<matplotlib.lines.Line2D at 0x7ff4977e04c0>],\n",
       " 'fliers': [<matplotlib.lines.Line2D at 0x7ff4977e0310>],\n",
       " 'means': []}"
      ]
     },
     "execution_count": 41,
     "metadata": {},
     "output_type": "execute_result"
    },
    {
     "data": {
      "image/png": "[encoded data removed]",
      "text/plain": [
       "<Figure size 432x288 with 1 Axes>"
      ]
     },
     "metadata": {
      "needs_background": "light"
     },
     "output_type": "display_data"
    }
   ],
   "source": [
    "plt.boxplot(home['bathrooms'])"
   ]
  },
  {
   "cell_type": "code",
   "execution_count": 42,
   "id": "4ec260f7",
   "metadata": {},
   "outputs": [
    {
     "ename": "SyntaxError",
     "evalue": "invalid syntax (<ipython-input-42-5c1f1b726622>, line 1)",
     "output_type": "error",
     "traceback": [
      "\u001b[0;36m  File \u001b[0;32m\"<ipython-input-42-5c1f1b726622>\"\u001b[0;36m, line \u001b[0;32m1\u001b[0m\n\u001b[0;31m    home['bathrooms'].boxplot() --- gives the error 'Series' object has no attribute 'boxplot'\u001b[0m\n\u001b[0m                                          ^\u001b[0m\n\u001b[0;31mSyntaxError\u001b[0m\u001b[0;31m:\u001b[0m invalid syntax\n"
     ]
    }
   ],
   "source": [
    "home['bathrooms'].boxplot() --- gives the error 'Series' object has no attribute 'boxplot'\n",
    "#bathrooms = home['bathrooms']\n",
    "#pd.bathrooms.plot.box() \n",
    "\n",
    "\n",
    "df= pd.DataFrame(home,columns='bathrooms')\n",
    "ax=df.plot.box()\n"
   ]
  },
  {
   "cell_type": "code",
   "execution_count": null,
   "id": "80c7f0c9",
   "metadata": {},
   "outputs": [],
   "source": [
    "---------------------------------------------------"
   ]
  },
  {
   "cell_type": "code",
   "execution_count": 50,
   "id": "0f22c8c9",
   "metadata": {},
   "outputs": [
    {
     "name": "stdout",
     "output_type": "stream",
     "text": [
      "price\n"
     ]
    },
    {
     "data": {
      "image/png": "[encoded data removed]",
      "text/plain": [
       "<Figure size 432x288 with 1 Axes>"
      ]
     },
     "metadata": {
      "needs_background": "light"
     },
     "output_type": "display_data"
    }
   ],
   "source": [
    "plot_hist('price')"
   ]
  },
  {
   "cell_type": "code",
   "execution_count": 51,
   "id": "2d1fbd49",
   "metadata": {},
   "outputs": [],
   "source": [
    "iqr = np.percentile(home['price'],75)-np.percentile(home['price'],25) \n",
    "upper_limit = np.percentile(home['price'],75)+3*iqr\n",
    "lower_limit = np.percentile(home['price'],25)-3*iqr\n",
    "home = home[(home['price']<upper_limit) & (home['price']>lower_limit)]\n",
    "\n"
   ]
  },
  {
   "cell_type": "code",
   "execution_count": 52,
   "id": "786f8edd",
   "metadata": {},
   "outputs": [
    {
     "data": {
      "text/plain": [
       "350000    171\n",
       "450000    170\n",
       "550000    156\n",
       "500000    151\n",
       "425000    150\n",
       "         ... \n",
       "419354      1\n",
       "579100      1\n",
       "230950      1\n",
       "185900      1\n",
       "303100      1\n",
       "Name: price, Length: 3401, dtype: int64"
      ]
     },
     "execution_count": 52,
     "metadata": {},
     "output_type": "execute_result"
    }
   ],
   "source": [
    "home['price'].value_counts()"
   ]
  },
  {
   "cell_type": "code",
   "execution_count": 53,
   "id": "114f5143",
   "metadata": {},
   "outputs": [
    {
     "name": "stdout",
     "output_type": "stream",
     "text": [
      "price\n"
     ]
    },
    {
     "data": {
      "image/png": "[encoded data removed]",
      "text/plain": [
       "<Figure size 432x288 with 1 Axes>"
      ]
     },
     "metadata": {
      "needs_background": "light"
     },
     "output_type": "display_data"
    }
   ],
   "source": [
    "plot_hist('price')"
   ]
  },
  {
   "cell_type": "code",
   "execution_count": null,
   "id": "9aced60b",
   "metadata": {},
   "outputs": [],
   "source": [
    "--------------------------------------------------------------------"
   ]
  },
  {
   "cell_type": "code",
   "execution_count": null,
   "id": "d267d8ff",
   "metadata": {},
   "outputs": [],
   "source": [
    "plot_hist('sqft_lot')"
   ]
  },
  {
   "cell_type": "code",
   "execution_count": null,
   "id": "5643471b",
   "metadata": {},
   "outputs": [],
   "source": [
    "iqr = np.percentile(home['sqft_lot'],75)-np.percentile(home['sqft_lot'],25) \n",
    "upper_limit = np.percentile(home['sqft_lot'],75)+1.5*iqr\n",
    "lower_limit = np.percentile(home['sqft_lot'],25)-1.5*iqr\n",
    "home = home[(home['sqft_lot']<upper_limit) & (home['sqft_lot']>lower_limit)]\n"
   ]
  },
  {
   "cell_type": "code",
   "execution_count": null,
   "id": "7553b47e",
   "metadata": {},
   "outputs": [],
   "source": [
    "plot_hist('sqft_lot')"
   ]
  },
  {
   "cell_type": "markdown",
   "id": "0bbcf393",
   "metadata": {},
   "source": [
    "#loop them all individually \n",
    "#make a list of the individual upper and lower limits to make sure you dont lose to many data point \n",
    " \n",
    "- check Lab|Data_cleaning_and_wrangling_Saturday_nov_13 if you have any questions about usage"
   ]
  },
  {
   "cell_type": "markdown",
   "id": "672e1e5c",
   "metadata": {},
   "source": [
    "# Question resulted in a lot of nans  \n",
    "- check saturday nov 13 notes for reference \n",
    "# help \n",
    "- def outliers_remove(df,col):\n",
    "    iqr=np.percentile(df[col],75)-np.percentile(df[col],25)\n",
    "    upper_limit = np.percentile(df[col],75)+1.5*iqr\n",
    "    lower_limit = np.percentile(df[col],25)+1.5*iqr\n",
    "    df[col]=df[(df[col]<upper_limit) & (df[col]>lower_limit)]\n",
    "    return df "
   ]
  },
  {
   "cell_type": "code",
   "execution_count": null,
   "id": "6b6033cf",
   "metadata": {},
   "outputs": [],
   "source": [
    "# try the way from last class where you make a list of the upper and lower limit of each column so you \n",
    "#dont lose as many points in the process \n",
    "\n",
    "def calculate_iqr(i):\n",
    "    iqr = np.percentile(home[i],75)-np.percentile(home[i],25) \n",
    "    upper_limit = np.percentile(home[i],75)+1.5*iqr\n",
    "    lower_limit = np.percentile(home[i],25)-1.5*iqr\n",
    "    home[i]= home[(home[i]<upper_limit) & (home[i]>lower_limit)]\n",
    "    return home\n"
   ]
  },
  {
   "cell_type": "markdown",
   "id": "34c4cfb3",
   "metadata": {},
   "source": [
    "# scaling "
   ]
  },
  {
   "cell_type": "code",
   "execution_count": 55,
   "id": "2a5e9a50",
   "metadata": {},
   "outputs": [],
   "source": [
    "home_corr=home.corr() "
   ]
  },
  {
   "cell_type": "code",
   "execution_count": 56,
   "id": "3f622fac",
   "metadata": {},
   "outputs": [],
   "source": [
    "# refer back to lesson 4.03_thursday\n",
    "\n",
    "X_num = home_corr.drop(['price'],axis = 1 ) \n"
   ]
  },
  {
   "cell_type": "code",
   "execution_count": 57,
   "id": "fd3cf798",
   "metadata": {},
   "outputs": [
    {
     "data": {
      "text/plain": [
       "array([[ 2.92808715e+00,  5.14319441e-01,  6.67161914e-01,\n",
       "        -4.22210504e-01, -1.17467332e-01, -4.43274012e-01,\n",
       "        -4.46310032e-01,  1.56227106e-01,  1.32127726e-02,\n",
       "         3.79875707e-01,  6.27689059e-01, -2.35101186e-02,\n",
       "        -2.31696133e-01, -3.22651361e-01, -3.99008982e-01,\n",
       "         1.69119617e-02,  2.08968062e-01, -4.45457619e-01],\n",
       "       [ 9.41491038e-01,  2.17005756e+00,  1.03204517e+00,\n",
       "        -2.95803468e-01,  1.04623796e+00, -3.42753025e-01,\n",
       "        -2.24961233e-01, -4.77596842e-01,  9.17346433e-01,\n",
       "         8.36852396e-01,  3.71700994e-01,  1.14266017e+00,\n",
       "        -1.66969920e-01, -5.33864843e-01, -3.27013660e-01,\n",
       "         3.82958713e-01,  6.83044122e-01, -3.10370170e-01],\n",
       "       [ 1.35332529e+00,  1.23713162e+00,  1.92888054e+00,\n",
       "         6.18872907e-02,  4.85470011e-01, -3.02052320e-01,\n",
       "         1.01125201e-01, -2.22825895e-01,  1.17372438e+00,\n",
       "         1.45173037e+00,  9.64839306e-01,  5.40933352e-01,\n",
       "        -1.54543693e-01, -5.03508044e-01, -2.39784398e-01,\n",
       "         4.85308927e-01,  1.33796268e+00,  9.74706975e-02],\n",
       "       [-7.14128597e-01, -7.62131790e-01, -6.08516963e-01,\n",
       "         3.28767150e+00, -6.55218288e-01, -1.86286675e-01,\n",
       "        -2.18210461e-01,  2.55493556e-02, -6.71002396e-01,\n",
       "        -4.22625803e-01, -3.89417035e-01, -3.58796692e-01,\n",
       "        -1.66632328e-01, -2.42653195e-01, -6.41815028e-01,\n",
       "         2.65840355e-01, -4.93163964e-01,  2.11219684e+00],\n",
       "       [-2.55021955e-01,  6.43226000e-01, -6.05605322e-02,\n",
       "        -5.90557095e-01,  2.62399238e+00, -3.15645634e-01,\n",
       "        -6.74694344e-01, -1.00509888e+00,  4.48335508e-01,\n",
       "         5.87933296e-01, -1.55368627e+00,  9.94884269e-01,\n",
       "        -2.44686522e-01, -3.91355881e-02, -1.26947012e-01,\n",
       "        -1.10351171e-02, -1.17827120e-01, -6.25232918e-01],\n",
       "       [-9.16757720e-01, -9.62385938e-01, -1.05433468e+00,\n",
       "        -4.03456324e-01, -5.92843582e-01,  4.02682608e+00,\n",
       "         7.38009735e-01,  8.65647487e-02, -9.68389118e-01,\n",
       "        -8.65489147e-01, -3.54328417e-01, -5.80870490e-01,\n",
       "        -9.31548728e-04,  3.11789236e-01, -4.40026995e-01,\n",
       "        -6.34977894e-01, -9.17738936e-01, -3.91132997e-01],\n",
       "       [-6.82015676e-01, -6.83657081e-01, -5.94725405e-01,\n",
       "        -1.94115717e-01, -6.50629565e-01,  9.87566852e-01,\n",
       "         3.84654941e+00,  1.60271911e-01, -5.59416462e-01,\n",
       "        -6.94672519e-01,  2.96626267e-01, -6.73947592e-01,\n",
       "         4.25219533e-02,  5.05368542e-01, -3.73871874e-01,\n",
       "        -6.93290364e-01, -3.85066932e-01, -2.20000882e-01],\n",
       "       [-6.73711576e-01, -1.35538916e+00, -1.25789417e+00,\n",
       "        -5.12950410e-01, -1.46925926e+00, -2.40965483e-01,\n",
       "        -4.31668935e-01,  3.79072997e+00, -1.43889014e+00,\n",
       "        -1.32440467e+00,  2.78985406e-01, -1.47656706e+00,\n",
       "        -4.63659846e-01,  1.46767473e-01, -3.36157137e-01,\n",
       "        -7.55194597e-01, -1.29075709e+00, -5.05479599e-01],\n",
       "       [ 3.63129100e-01,  9.62293373e-01,  1.02135338e+00,\n",
       "        -1.85063432e-01,  8.77421365e-01, -3.63720739e-01,\n",
       "        -4.38814541e-02, -6.05928361e-01,  2.09150299e+00,\n",
       "         1.05887139e+00, -1.86881248e-01,  9.40843519e-01,\n",
       "        -3.10525137e-01, -4.25770043e-01,  6.05351381e-02,\n",
       "         2.87800548e-01,  1.10899000e+00, -1.65700456e-01],\n",
       "       [ 8.84624548e-01,  9.89662545e-01,  1.47030279e+00,\n",
       "         8.43584126e-02,  1.10999194e+00, -3.36157228e-01,\n",
       "        -3.37106164e-01, -6.31630636e-01,  1.19085604e+00,\n",
       "         1.86875026e+00, -1.09728914e+00,  8.56021488e-01,\n",
       "        -2.51347916e-01, -7.18218567e-01, -4.57178074e-01,\n",
       "         8.24105778e-01,  1.27375510e+00,  1.24325939e-01],\n",
       "       [ 2.36738225e-01, -2.85626833e-01,  4.16700271e-02,\n",
       "        -4.85854775e-01, -1.56571462e+00, -2.39693445e-01,\n",
       "         2.53981204e-01,  7.24373217e-01, -7.46775894e-01,\n",
       "        -1.34436128e+00,  3.32901309e+00, -9.21422865e-01,\n",
       "        -3.65254707e-02,  4.79760871e-01,  1.20205184e-01,\n",
       "        -9.41974103e-01, -5.92532202e-01, -5.04605428e-01],\n",
       "       [-2.10546025e-01,  8.18387314e-01,  2.40700204e-03,\n",
       "        -3.53489689e-01,  1.06169513e+00, -4.65084961e-01,\n",
       "        -8.91719896e-01, -1.28358874e+00,  5.64744511e-01,\n",
       "         4.15473118e-01, -9.93518155e-01,  2.38947982e+00,\n",
       "        -1.14171715e+00, -9.31768656e-01, -8.66730300e-01,\n",
       "         8.69993816e-01,  1.81322349e-01, -2.95349357e-01],\n",
       "       [-8.10461507e-01, -8.99125857e-01, -1.01294657e+00,\n",
       "        -4.62928230e-01, -6.05531841e-01, -8.72989851e-02,\n",
       "        -3.16600252e-01, -1.84514387e-01, -9.93029801e-01,\n",
       "        -8.67572852e-01, -2.53709807e-01, -1.09073899e+00,\n",
       "         4.08436968e+00,  3.90918873e-01, -1.84613829e-01,\n",
       "        -6.32897505e-01, -1.06319133e+00, -4.81352943e-01],\n",
       "       [-1.36396748e+00, -1.61077271e+00, -1.67755693e+00,\n",
       "        -9.89880991e-01, -7.90142763e-01, -1.10117010e-01,\n",
       "        -1.18468533e-01,  7.54273229e-03, -1.48282347e+00,\n",
       "        -1.59179011e+00, -4.74746784e-02, -1.45186887e+00,\n",
       "         8.20655375e-02,  3.38841198e+00,  8.12610885e-01,\n",
       "        -2.25435397e+00, -1.80507138e+00, -1.07463060e+00],\n",
       "       [-9.25026888e-01, -9.83590287e-01, -1.03550602e+00,\n",
       "        -8.75044699e-01, -4.69006872e-01, -4.98783257e-01,\n",
       "        -7.06513247e-01, -3.63323088e-02, -6.72181191e-01,\n",
       "        -9.79431779e-01, -3.68384068e-02, -9.18869912e-01,\n",
       "        -1.25751647e-01,  1.06509152e+00,  3.60464383e+00,\n",
       "        -8.73189988e-01, -8.78627797e-01, -9.04696691e-01],\n",
       "       [-2.61911043e-01, -1.35719528e-01, -1.92828371e-01,\n",
       "         3.31736788e-01, -1.51245871e-01, -5.58729400e-01,\n",
       "        -9.23752945e-01, -3.29571706e-01, -2.39311219e-01,\n",
       "         2.24889931e-01, -9.86227757e-01,  6.95736411e-01,\n",
       "        -4.66280563e-01, -1.64165837e+00, -7.79950168e-01,\n",
       "         2.77434735e+00,  2.12963522e-01,  4.23289258e-01],\n",
       "       [ 5.81636237e-01,  6.92158005e-01,  1.14263091e+00,\n",
       "         3.28704881e-02,  2.62786860e-01, -2.85117878e-01,\n",
       "         2.02206460e-01, -4.06887645e-01,  1.07204026e+00,\n",
       "         1.09718681e+00,  1.13785511e-03,  5.59822377e-01,\n",
       "        -4.00406923e-01, -7.46042590e-01, -1.99928979e-01,\n",
       "         7.50250501e-01,  2.14954386e+00,  1.56990108e-01],\n",
       "       [-7.20571564e-01, -7.59653398e-01, -5.64522665e-01,\n",
       "         2.14613212e+00, -6.71456036e-01, -1.52758507e-01,\n",
       "        -2.27176430e-01,  4.90783043e-02, -6.40826243e-01,\n",
       "        -3.79352826e-01, -3.91846186e-01, -3.01556250e-01,\n",
       "        -1.68879184e-01, -3.04033613e-01, -6.58203225e-01,\n",
       "         3.62666476e-01, -3.75540078e-01,  3.24608837e+00],\n",
       "       [ 2.45088443e-01,  4.10816726e-01,  7.52940591e-01,\n",
       "        -1.73301264e-01,  2.70920384e-01, -8.59543716e-02,\n",
       "         4.19191913e-01,  1.83638061e-01,  9.40883036e-01,\n",
       "         5.48137704e-01,  4.21225127e-01, -3.22232571e-01,\n",
       "         1.21596807e-01,  1.21196378e-01,  1.43323462e+00,\n",
       "        -2.23270892e-01,  7.62967142e-01, -2.36351553e-01]])"
      ]
     },
     "execution_count": 57,
     "metadata": {},
     "output_type": "execute_result"
    }
   ],
   "source": [
    "# this applies to everything ???\n",
    "#your options include normalizer or min max scaler \n",
    "# when using this standardscaler all the null values must be removed to have this function \n",
    "from sklearn.preprocessing import StandardScaler\n",
    "transformer= StandardScaler().fit(X_num)\n",
    "x_standardized = transformer.transform(X_num)\n",
    "x_standardized"
   ]
  },
  {
   "cell_type": "markdown",
   "id": "ec2cd560",
   "metadata": {},
   "source": [
    "# using min max scaler on numerical data types \n",
    "- check saturday nov 13 for reference \n"
   ]
  },
  {
   "cell_type": "code",
   "execution_count": null,
   "id": "af46865d",
   "metadata": {},
   "outputs": [],
   "source": [
    "from sklearn.preprocessing import MinMaxScaler \n",
    "transformer = MinMaxScaler().fit(numerical)\n",
    "x_min_max = transformer.transform(numerical)\n",
    "x_min_max"
   ]
  },
  {
   "cell_type": "markdown",
   "id": "d235eda6",
   "metadata": {},
   "source": [
    "# Scaling categorical data types (use on classification problem) \n",
    "\n",
    "- encoded_df= pd.get_dummies(categorical) \n",
    "    - remember to concatenate the numerical and categorical afterward \n",
    "        - categorical=home.select_dtypes(np.object) \n",
    "        - scaled_df = pd.DataFrame(x_standardized) \n",
    "        - X=pd.concat([scaled_df,encoded_df],axis=1)"
   ]
  },
  {
   "cell_type": "markdown",
   "id": "d7b14cbc",
   "metadata": {},
   "source": [
    "# Train Test Split "
   ]
  },
  {
   "cell_type": "code",
   "execution_count": null,
   "id": "3b1470a9",
   "metadata": {},
   "outputs": [],
   "source": [
    "from sklearn.model_selection import train_test_split\n",
    "X_train,X_test,y_train,y_test = train_test_split(X,y,test_size = 0.4,random_state=100)\n",
    "from sklearn.linear_model import LinearRegression\n",
    "from sklearn import metrics\n",
    "model = LinearRegression()  \n",
    "model.fit(X_train, y_train)\n",
    "y_pred = model.predict(X_test)\n"
   ]
  },
  {
   "cell_type": "code",
   "execution_count": null,
   "id": "05b75af2",
   "metadata": {},
   "outputs": [],
   "source": []
  },
  {
   "cell_type": "code",
   "execution_count": null,
   "id": "6cee4954",
   "metadata": {},
   "outputs": [],
   "source": []
  },
  {
   "cell_type": "code",
   "execution_count": null,
   "id": "5bf7457c",
   "metadata": {},
   "outputs": [],
   "source": []
  },
  {
   "cell_type": "code",
   "execution_count": null,
   "id": "7c6cd39d",
   "metadata": {},
   "outputs": [],
   "source": []
  },
  {
   "cell_type": "markdown",
   "id": "160013c6",
   "metadata": {},
   "source": [
    "# CORRELATION MATRIX   \n",
    "- question -> do you need to apply the standardscaler befor or after the corr matrix ???  \n",
    "    - answer --> is you do it after the corr matix \n",
    "    \n",
    "- filter out anything with a high colinearity \n",
    "- columns to drop \n",
    "    - id \n",
    "    - "
   ]
  },
  {
   "cell_type": "code",
   "execution_count": null,
   "id": "4841eae2",
   "metadata": {},
   "outputs": [],
   "source": [
    "correlation_matrix= numerical.corr() \n",
    "correlation_matrix"
   ]
  },
  {
   "cell_type": "code",
   "execution_count": null,
   "id": "2b709011",
   "metadata": {},
   "outputs": [],
   "source": [
    "home.columns"
   ]
  },
  {
   "cell_type": "markdown",
   "id": "b0454773",
   "metadata": {},
   "source": [
    "# note \n",
    "- does the date really matter ???"
   ]
  },
  {
   "cell_type": "code",
   "execution_count": null,
   "id": "f21af04c",
   "metadata": {},
   "outputs": [],
   "source": [
    "home_corr = home[['date', 'bedrooms', 'bathrooms', 'sqft_living', 'sqft_lot', 'floors',\n",
    "       'waterfront', 'view', 'condition', 'grade', 'sqft_above',\n",
    "       'sqft_basement', 'yr_built', 'yr_renovated', 'zipcode', 'lat', 'long',\n",
    "       'sqft_living15', 'sqft_lot15', 'price']]\n",
    "corr_matrix = home_corr.corr(method = 'pearson')\n",
    "fig,ax = plt.subplots(figsize = (10,8))\n",
    "ax = sns.heatmap(corr_matrix,annot=True)\n",
    "plt.show()"
   ]
  },
  {
   "cell_type": "code",
   "execution_count": null,
   "id": "5937cf2c",
   "metadata": {},
   "outputs": [],
   "source": [
    "sns.regplot('sqft_living15','sqft_living', data = home_corr) \n",
    "# check syntax here \n",
    "    #https://seaborn.pydata.org/generated/seaborn.regplot.html\n"
   ]
  },
  {
   "cell_type": "code",
   "execution_count": null,
   "id": "7d36b6a8",
   "metadata": {},
   "outputs": [],
   "source": []
  },
  {
   "cell_type": "code",
   "execution_count": null,
   "id": "713d84cf",
   "metadata": {},
   "outputs": [],
   "source": [
    "\n",
    "sns.heatmap(correlation_matrix,annot=True)\n",
    "plt.show() \n",
    "#filter out anything higher than 0.8?? "
   ]
  },
  {
   "cell_type": "code",
   "execution_count": null,
   "id": "ecf8bea9",
   "metadata": {},
   "outputs": [],
   "source": [
    "#create a better filter that provides a list of the columns you need to drop refer back to notes 8\n",
    "high_colinearity = numerical.corr()>0.8\n",
    "high_colinearity \n",
    "\n",
    "\n",
    " #sqft above and living  \n",
    " #"
   ]
  },
  {
   "cell_type": "code",
   "execution_count": null,
   "id": "73837d62",
   "metadata": {},
   "outputs": [],
   "source": [
    "#want to predict the price of the house "
   ]
  },
  {
   "cell_type": "code",
   "execution_count": null,
   "id": "0bc68e9f",
   "metadata": {},
   "outputs": [],
   "source": []
  },
  {
   "cell_type": "code",
   "execution_count": null,
   "id": "51d00056",
   "metadata": {},
   "outputs": [],
   "source": []
  }
 ],
 "metadata": {
  "kernelspec": {
   "display_name": "Python 3",
   "language": "python",
   "name": "python3"
  },
  "language_info": {
   "codemirror_mode": {
    "name": "ipython",
    "version": 3
   },
   "file_extension": ".py",
   "mimetype": "text/x-python",
   "name": "python",
   "nbconvert_exporter": "python",
   "pygments_lexer": "ipython3",
   "version": "3.8.8"
  }
 },
 "nbformat": 4,
 "nbformat_minor": 5
}
